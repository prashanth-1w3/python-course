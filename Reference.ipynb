{
 "cells": [
  {
   "cell_type": "markdown",
   "metadata": {},
   "source": [
    "# References\n",
    "\n",
    "\n",
    "## Documentation\n",
    "\n",
    "Main Python Site: www.python.org\n",
    "Python 3 Documentation: https://docs.python.org/3/\n",
    "Tutorial - takes about 3-4 hours to complete. Contains many examples of the language and its usage: https://docs.python.org/3/tutorial/index.html\n",
    "Standard Library: https://docs.python.org/3/library/index.html\n",
    "Glossary: https://docs.python.org/3/glossary.html\n",
    "Problems - w3resource.com/python-exercises/\n",
    "\n",
    "## Installation\n",
    "\n",
    "### Windows\n",
    "\n",
    "### Linux\n",
    "\n",
    "### OSX"
   ]
  },
  {
   "cell_type": "code",
   "execution_count": null,
   "metadata": {
    "collapsed": true
   },
   "outputs": [],
   "source": []
  }
 ],
 "metadata": {
  "kernelspec": {
   "display_name": "Python 3",
   "language": "python",
   "name": "python3"
  },
  "language_info": {
   "codemirror_mode": {
    "name": "ipython",
    "version": 3
   },
   "file_extension": ".py",
   "mimetype": "text/x-python",
   "name": "python",
   "nbconvert_exporter": "python",
   "pygments_lexer": "ipython3",
   "version": "3.6.0"
  }
 },
 "nbformat": 4,
 "nbformat_minor": 2
}
