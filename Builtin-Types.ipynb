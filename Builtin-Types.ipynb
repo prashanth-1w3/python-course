{
 "cells": [
  {
   "cell_type": "markdown",
   "metadata": {},
   "source": [
    "# Builtin Types"
   ]
  },
  {
   "cell_type": "markdown",
   "metadata": {},
   "source": [
    "## Numeric Types \n",
    "\n",
    "### Reference\n",
    "https://docs.python.org/3.6/library/stdtypes.html#typesnumeric"
   ]
  },
  {
   "cell_type": "markdown",
   "metadata": {},
   "source": [
    "### Int\n",
    "\n",
    "In Python **int** type represents all positive and negative whole numbers.  The range of the integer type is system dependent.  For 32-bit systems the min and max values are: -2147483647 to 2147483647 while for 64-bit systems the min and max values are: -9223372036854775808 to 9223372036854775807.  Below is some code that will print the min/max integer value on your system."
   ]
  },
  {
   "cell_type": "code",
   "execution_count": 2,
   "metadata": {
    "collapsed": false
   },
   "outputs": [
    {
     "name": "stdout",
     "output_type": "stream",
     "text": [
      "9223372036854775807\n",
      "-9223372036854775808\n"
     ]
    }
   ],
   "source": [
    "# How to find the maximum integer value for your system?\n",
    "\n",
    "import sys\n",
    "\n",
    "print(sys.maxsize)\n",
    "print(-1 - sys.maxsize)\n",
    "\n",
    "# Note: Older versions of Python had sys.maxint instead of maxsize"
   ]
  },
  {
   "cell_type": "markdown",
   "metadata": {},
   "source": [
    "#### Working With Integers\n",
    "\n",
    "Because integers are numbers they support operations you would expect, such as, addition, subtraction, multiplication and division.  Each of these operations uses the expected symbol:\n",
    "\n",
    "* **`+`** : addition\n",
    "* **`-`** : subtraction\n",
    "* **`*`** : multiplication\n",
    "    \n",
    "However, integer division is has a special symbol so that the result of the division remains an integer.  This is known as integer division and the symbol **`//`**.\n",
    "\n",
    "**Note: If you use the **`/`** symbol, the quotient will be a floating point number, a number with real and fractional parts.**"
   ]
  },
  {
   "cell_type": "code",
   "execution_count": 3,
   "metadata": {
    "collapsed": false
   },
   "outputs": [
    {
     "name": "stdout",
     "output_type": "stream",
     "text": [
      "2\n",
      "-2\n",
      "25\n",
      "2\n",
      "0\n",
      "0.5\n"
     ]
    }
   ],
   "source": [
    "print(1 + 1)\n",
    "print(3 - 5)\n",
    "print(5 * 5)\n",
    "\n",
    "# The quotient will be an integer\n",
    "print(6 // 3)\n",
    "\n",
    "# The quotient will also be an integer\n",
    "print(3 // 6)\n",
    "\n",
    "# The quotient will be a floating point number\n",
    "print(3 / 6)"
   ]
  },
  {
   "cell_type": "markdown",
   "metadata": {},
   "source": [
    "Other useful operators are:\n",
    "\n",
    "* **`+=`** : add and assign\n",
    "* **`-=`** : subtract and assign\n",
    "* **`*=`** : multiply and assign\n",
    "* **`/=`** : divide and assign\n",
    "\n",
    "** Note: Python does not support `++` or `--` operators**\n",
    "\n",
    "See the reference above for defined operators."
   ]
  },
  {
   "cell_type": "markdown",
   "metadata": {},
   "source": [
    "#### Conversion\n",
    "\n",
    "Sometimes you need to convert a string or floating point number into an **`int`**.  Python provides the **`int()`** function."
   ]
  },
  {
   "cell_type": "code",
   "execution_count": null,
   "metadata": {
    "collapsed": true
   },
   "outputs": [],
   "source": [
    "# Convert text to an integer\n",
    "print(int(\"534234\"))\n",
    "print(int(\"0x043\", 16))\n",
    "print(int(3.1415))"
   ]
  },
  {
   "cell_type": "markdown",
   "metadata": {},
   "source": [
    "### Float\n",
    "\n",
    "The **`float`** type in Python is used to hold real and fraction part of a number.  For example **`pi`** is a floating point number.  Like integers, floating point numbers are also system dependent and that information is made available through the sys module."
   ]
  },
  {
   "cell_type": "code",
   "execution_count": 4,
   "metadata": {
    "collapsed": false
   },
   "outputs": [
    {
     "name": "stdout",
     "output_type": "stream",
     "text": [
      "sys.float_info(max=1.7976931348623157e+308, max_exp=1024, max_10_exp=308, min=2.2250738585072014e-308, min_exp=-1021, min_10_exp=-307, dig=15, mant_dig=53, epsilon=2.220446049250313e-16, radix=2, rounds=1)\n"
     ]
    }
   ],
   "source": [
    "import sys\n",
    "\n",
    "print(sys.float_info)"
   ]
  },
  {
   "cell_type": "markdown",
   "metadata": {},
   "source": [
    "#### Working With Float\n",
    "\n",
    "The **`float`** type supports the same basic math operations as **`int`**."
   ]
  },
  {
   "cell_type": "code",
   "execution_count": 5,
   "metadata": {
    "collapsed": false
   },
   "outputs": [
    {
     "name": "stdout",
     "output_type": "stream",
     "text": [
      "3.88\n",
      "4.355\n",
      "31.607999999999997\n",
      "68.8391812865497\n",
      "2.0\n"
     ]
    }
   ],
   "source": [
    "print(1.34 + 2.54)\n",
    "print(6.455 - 2.1)\n",
    "print(26.34 * 1.2)\n",
    "print(2354.3 / 34.2)\n",
    "\n",
    "# Note: Integer division where either number is a float returns a float, but only the integer portion of the quotient\n",
    "print(5.0 // 2)"
   ]
  },
  {
   "cell_type": "markdown",
   "metadata": {},
   "source": [
    "#### Conversion\n",
    "\n",
    "Like **`int`**, we sometime need to convert values into **`float`**.  To do that we use the **`float()`** function."
   ]
  },
  {
   "cell_type": "code",
   "execution_count": null,
   "metadata": {
    "collapsed": true
   },
   "outputs": [],
   "source": [
    "print(float('+1.23'))\n",
    "print(float('   -12345\\n'))\n",
    "print(float('1e-003'))\n",
    "print(float(10))"
   ]
  },
  {
   "cell_type": "markdown",
   "metadata": {},
   "source": [
    "### Complex\n",
    "\n",
    "Python supports a **`complex`** type to represent imaginary numbers.  The type of each component of a complex number is **`float`**.  See the reference for more information."
   ]
  },
  {
   "cell_type": "markdown",
   "metadata": {},
   "source": [
    "### Exercises\n",
    "\n",
    "1. Write a program to compute the Area of a Circle\n",
    "2. Write a program to parse a string to Float or Integer\n",
    "3. Write a program to convert the distance (in feet) to inches, yards, and miles\n",
    "4. Write a program to convert Fahrenheit to Celcius and Celcius to Fahrenheit"
   ]
  },
  {
   "cell_type": "code",
   "execution_count": 6,
   "metadata": {
    "collapsed": false
   },
   "outputs": [
    {
     "name": "stdout",
     "output_type": "stream",
     "text": [
      "Enter the raidus of the circle: 5.0\n",
      "The area is: 31.41592653589793\n"
     ]
    }
   ],
   "source": [
    "# 1. Write a program to compute the Area of a Circle\n",
    "\n",
    "import math\n",
    "\n",
    "radius = float(input(\"Enter the raidus of the circle: \"))\n",
    "print(\"The area is: {}\".format(2 * math.pi * radius))"
   ]
  },
  {
   "cell_type": "code",
   "execution_count": 9,
   "metadata": {
    "collapsed": false
   },
   "outputs": [
    {
     "name": "stdout",
     "output_type": "stream",
     "text": [
      "Enter a number: sdfsdf\n",
      "I don't know what sdfsdf is.  Try again.\n"
     ]
    }
   ],
   "source": [
    "# 2. Write a program to parse a string to Float or Integer\n",
    "\n",
    "value = input(\"Enter a number: \")\n",
    "\n",
    "try:\n",
    "    value = int(value)\n",
    "    print(\"{} is an integer\".format(value))\n",
    "except ValueError:\n",
    "    try:\n",
    "        value = float(value)\n",
    "        print(\"{} is a floating point number\".format(value))\n",
    "    except ValueError:\n",
    "        print(\"I don't know what {} is.  Try again.\".format(value))    "
   ]
  },
  {
   "cell_type": "code",
   "execution_count": 10,
   "metadata": {
    "collapsed": false
   },
   "outputs": [
    {
     "name": "stdout",
     "output_type": "stream",
     "text": [
      "Enter the distance (in feet): 3\n",
      "Distance 3.0e+00 (in feet) is 3.6e+01 inches, 1.0e+00 yards, and 5.7e-04 miles.\n"
     ]
    }
   ],
   "source": [
    "# 3. Write a program to convert the distance (in feet) to inches, yards, and miles\n",
    "\n",
    "value = input(\"Enter the distance (in feet): \")\n",
    "\n",
    "try:\n",
    "    value = float(value)\n",
    "    print(\"Distance {:.1e} (in feet) is {:.1e} inches, {:.1e} yards, and {:.1e} miles.\".format(value, value * 12, value / 3, value / 5280))\n",
    "except ValueError:\n",
    "    print(\"I don't know what {} is.  Try again.\".format(value))"
   ]
  },
  {
   "cell_type": "code",
   "execution_count": null,
   "metadata": {
    "collapsed": true
   },
   "outputs": [],
   "source": [
    "# 4. Write a program to convert Fahrenheit to Celcius and Celcius to Fahrenheit\n",
    "\n",
    "value = input(\"Temperature Conversion - Enter system (F or C), a space, the temperature (ex. F 32.0):\")\n",
    "\n",
    "sys, temp = value.split()\n",
    "\n",
    "if sys.lower() == 'f':\n",
    "    print(\"{} F is {:1f} C\".format(temp, (float(temp) - 32) * 5 / 9))\n",
    "if sys.lower() == 'c':\n",
    "    print(\"{} C is {:1f} F\".format(temp, float(temp) * 9 / 5 + 32))"
   ]
  },
  {
   "cell_type": "markdown",
   "metadata": {},
   "source": [
    "---------------------------------------------------------------------"
   ]
  },
  {
   "cell_type": "markdown",
   "metadata": {},
   "source": [
    "## Sequence Types\n",
    "\n",
    "\n",
    "### Reference\n",
    "https://docs.python.org/3.6/library/stdtypes.html#sequence-types-list-tuple-range\n"
   ]
  },
  {
   "cell_type": "markdown",
   "metadata": {},
   "source": [
    "### Text Sequence Type\n",
    "\n",
    "#### Reference\n",
    "https://docs.python.org/3.6/library/stdtypes.html#text-sequence-type-str\n",
    "\n",
    "What is a 'Text Sequence Type'?  It is a sequence of text characters, like a sentence or paragraph, referred to in programming as a 'string', as in, a 'string of text characters'.  In Python, a text sequence is represented by the **`str`** type.  The text of this document would be considered a string.  An example of how to create a **`str`** in Python follows:\n",
    "\n",
    "**Note: Text sequences have similar properties as other Python sequences.  I present the text sequence type first because text sequences are easy to understand (we use them all the time when writing, texting, emailing, etc).**"
   ]
  },
  {
   "cell_type": "code",
   "execution_count": 11,
   "metadata": {
    "collapsed": false
   },
   "outputs": [
    {
     "name": "stdout",
     "output_type": "stream",
     "text": [
      "this is a string of characters or letters\n",
      "\n",
      "In Python, strings can be delineated using either double quotes \" or single quotes ' (one on each end)\n",
      "\n",
      "Python also supports a triple quote (either \" or ')\n",
      "which allows for very long strings or\n",
      "strings that have embedded\n",
      "formating\n",
      "\n",
      "Also, long strings can be split across multiple lines without embedded carriage returns by using a line continuation character - look Ma, no carriabe returns!\n"
     ]
    }
   ],
   "source": [
    "print(\"this is a string of characters or letters\")\n",
    "print('')\n",
    "print('In Python, strings can be delineated using either double quotes \" or single quotes \\' (one on each end)')\n",
    "print(\"\")\n",
    "print(\"\"\"Python also supports a triple quote (either \\\" or ')\n",
    "which allows for very long strings or\n",
    "strings that have embedded\n",
    "formating\"\"\")\n",
    "print('''''')\n",
    "print('Also, long strings can \\\n",
    "be split \\\n",
    "across multiple lines without \\\n",
    "embedded carriage returns \\\n",
    "by using a \\\n",
    "line continuation character - \\\n",
    "look Ma, no carriabe returns!')"
   ]
  },
  {
   "cell_type": "markdown",
   "metadata": {},
   "source": [
    "#### Working With Strings\n",
    "\n",
    "\n",
    "##### Methods\n",
    "\n",
    "Of course, there are lots of things we can do with strings (and sequences in general).  Python provides 'methods' that can be called on a **`str`** type to perform some operation or functionality."
   ]
  },
  {
   "cell_type": "code",
   "execution_count": 12,
   "metadata": {
    "collapsed": false
   },
   "outputs": [
    {
     "name": "stdout",
     "output_type": "stream",
     "text": [
      "Capitalize this\n",
      "UPPER CASE THIS\n",
      "lower case this\n",
      "3\n",
      "1\n",
      "put 1 here->1 put 2, here->2, put 3 here->3\n",
      "['split', 'this', 'sentence', 'into', 'a', 'sequence', '(a', 'list', 'actually)', 'or', 'words', 'separated', 'by', 'spaces']\n"
     ]
    }
   ],
   "source": [
    "print(\"capitalize this\".capitalize())\n",
    "print('upper case this'.upper())\n",
    "print('LOWER CASE THIS'.lower())\n",
    "print(\"\"\"Count the c's characters\"\"\".count('c'))\n",
    "print('''Find the position of the first i in this string'''.find('i'))\n",
    "print(\"put {0} here->{0} put {1}, here->{1}, put {2} here->{2}\".format(1, 2, 3))\n",
    "print(\"split this sentence into a sequence (a list actually) or words separated by spaces\".split())"
   ]
  },
  {
   "cell_type": "markdown",
   "metadata": {},
   "source": [
    "##### Indexing\n",
    "\n",
    "It is often useful to access the elements of a string using an index.  Indexing for sequences is zero-based ranging from 0 to N-1, where N is the number elements in the sequence.  Indexing notation uses the left/right bracket, **`[]`**.  In addition, Python supports the notion of a negative index which is applied starting from the end of the sequence."
   ]
  },
  {
   "cell_type": "code",
   "execution_count": 13,
   "metadata": {
    "collapsed": false
   },
   "outputs": [
    {
     "name": "stdout",
     "output_type": "stream",
     "text": [
      "T\n",
      "i\n",
      "g\n",
      "s\n"
     ]
    }
   ],
   "source": [
    "var = \"This is a string\"\n",
    "\n",
    "print(var[0])\n",
    "print(var[5])\n",
    "print(var[-1])\n",
    "print(var[-6])"
   ]
  },
  {
   "cell_type": "markdown",
   "metadata": {},
   "source": [
    "##### Slicing\n",
    "\n",
    "Another useful operation for sequences is slicing.  Slicing is similar to indexing but involves selecting 1 or more elements from a sequence.  Slicing notation uses the left/right bracket, **`[]`** and the **`:`**.  The values specified for the slice represent the start and stop (non-inclusive) and stride (number of characters taken at a time)."
   ]
  },
  {
   "cell_type": "code",
   "execution_count": 14,
   "metadata": {
    "collapsed": false
   },
   "outputs": [
    {
     "name": "stdout",
     "output_type": "stream",
     "text": [
      "is_\n",
      "s_is_a\n",
      "is_a_string\n",
      "This_is\n",
      "g\n",
      "This_is_a_st\n",
      "This_is_a_string\n",
      "gnirts_a_si_sihT\n"
     ]
    }
   ],
   "source": [
    "var = \"This_is_a_string\"\n",
    "\n",
    "print(var[2:5])\n",
    "print(var[3:9])\n",
    "print(var[5:])\n",
    "print(var[:7])\n",
    "print(var[-1:])\n",
    "print(var[:-4])\n",
    "print(var[-len(var):])\n",
    "print(var[::-1])"
   ]
  },
  {
   "cell_type": "markdown",
   "metadata": {},
   "source": [
    "#### Conversion\n",
    "\n",
    "String conversion uses the **`str()`** function.  The **`str()`** is quite flexible and will default to a representation of the underlying object if no suitable option is available."
   ]
  },
  {
   "cell_type": "code",
   "execution_count": 15,
   "metadata": {
    "collapsed": false
   },
   "outputs": [
    {
     "name": "stdout",
     "output_type": "stream",
     "text": [
      "1000\n",
      "3.1435\n",
      "<function <lambda> at 0x0000000005512840>\n",
      "['this', 'is', 'a', 'list', 'of', 'words']\n"
     ]
    }
   ],
   "source": [
    "print(str(1000))\n",
    "print(str(3.1435))\n",
    "print(str(lambda : None))\n",
    "print(str(['this', 'is', 'a', 'list', 'of', 'words']))"
   ]
  },
  {
   "cell_type": "markdown",
   "metadata": {},
   "source": [
    "#### Exercises\n",
    "\n",
    "1. Write a Python program to calculate the length of a string.\n",
    "2. Write a Python function that takes a list of words and returns the length of the longest one.\n",
    "3. Write a Python script that takes input from the user and displays that input back in upper and lower cases.\n",
    "4. Write a Python function to reverses a string if it's length is a multiple of 4.\n",
    "5. Write a Python program to count occurrences of a substring in a string."
   ]
  },
  {
   "cell_type": "code",
   "execution_count": null,
   "metadata": {
    "collapsed": true
   },
   "outputs": [],
   "source": [
    "# 1. Write a Python program to calculate the length of a string.\n",
    "\n",
    "var = \"this is a string\"\n",
    "\n",
    "print(len(var))"
   ]
  },
  {
   "cell_type": "code",
   "execution_count": 17,
   "metadata": {
    "collapsed": false
   },
   "outputs": [
    {
     "name": "stdout",
     "output_type": "stream",
     "text": [
      "The maximum length is 6\n",
      "The maximum length is 6\n",
      "[4, 2, 1, 6, 4, 1, 5, 2, 4, 2, 2]\n",
      "6\n"
     ]
    }
   ],
   "source": [
    "# 2. Write a Python function that takes a list of words and returns the length of the longest one.\n",
    "\n",
    "var = \"this is a string with a bunch of word in it\"\n",
    "\n",
    "words = var.split()\n",
    "\n",
    "max_len = 0\n",
    "for w in words:\n",
    "    if len(w) > max_len:\n",
    "        max_len = len(w)\n",
    "    \n",
    "print(\"The maximum length is {}\".format(max_len))\n",
    "\n",
    "# Alternate 2    \n",
    "print(\"The maximum length is {}\".format(max([len(w) for w in words])))"
   ]
  },
  {
   "cell_type": "code",
   "execution_count": null,
   "metadata": {
    "collapsed": true
   },
   "outputs": [],
   "source": [
    "# 3. Write a Python script that takes input from the user and displays that input back in upper and lower cases.\n",
    "\n",
    "var = input(\"Enter a string: \")\n",
    "\n",
    "print(\"Upper: {}, Lower: {}\".format(var.upper(), var.lower()))"
   ]
  },
  {
   "cell_type": "code",
   "execution_count": null,
   "metadata": {
    "collapsed": true
   },
   "outputs": [],
   "source": [
    "# 4. Write a Python function to reverse a string if it's length is a multiple of 4.\n",
    "\n",
    "var1 = \"This is a string who's multiple is four!\"\n",
    "var2 = \"This is a string that is not!\"\n",
    "\n",
    "for v in var1, var2:\n",
    "    if len(v) % 4 == 0:\n",
    "        print(var1[::-1])\n",
    "    else:\n",
    "        print(\"Not multiple of 4\")"
   ]
  },
  {
   "cell_type": "code",
   "execution_count": 18,
   "metadata": {
    "collapsed": false
   },
   "outputs": [
    {
     "name": "stdout",
     "output_type": "stream",
     "text": [
      "6\n",
      "6\n"
     ]
    }
   ],
   "source": [
    "# 5. Write a Python program to count occurrences of a substring in a string.\n",
    "\n",
    "var = \"This is a long string that is quite useful if the issue is that there is not a problem!\"\n",
    "\n",
    "sub_str = 'is'\n",
    "\n",
    "print(var.count(sub_str))\n",
    "\n",
    "# Alternate\n",
    "print(len(var.split('is')) - 1)"
   ]
  },
  {
   "cell_type": "markdown",
   "metadata": {},
   "source": [
    "------------------------------------------------------------------------------------------------------"
   ]
  },
  {
   "cell_type": "markdown",
   "metadata": {},
   "source": [
    "### List Sequence Type\n",
    "\n",
    "#### Reference\n",
    "https://docs.python.org/3.6/library/stdtypes.html#list\n",
    "\n",
    "A list is a sequence of values where the values can be of the same or different types. A list is defined by writing a series of comma-separated values enclosed by brackets."
   ]
  },
  {
   "cell_type": "markdown",
   "metadata": {},
   "source": [
    "#### Working With Lists\n",
    "\n",
    "    l = [1, 2, 3, 4] # List of four integers\n",
    "    l = ['a', 'b', 'c', 'd'] # list of four characters\n",
    "    l = [] # empty list\n",
    "    l = list() # empty list\n",
    "\n",
    "##### Methods\n",
    "\n",
    "* append(x)\n",
    "* clear()\n",
    "* copy()\n",
    "* extend(t)\n",
    "* insert(x)\n",
    "* pop([i])\n",
    "* remove(x)\n",
    "* reverse()"
   ]
  },
  {
   "cell_type": "markdown",
   "metadata": {},
   "source": [
    "##### Indexing"
   ]
  },
  {
   "cell_type": "markdown",
   "metadata": {},
   "source": [
    "##### Slicing"
   ]
  },
  {
   "cell_type": "markdown",
   "metadata": {},
   "source": [
    "#### Conversion"
   ]
  },
  {
   "cell_type": "markdown",
   "metadata": {},
   "source": [
    "#### Examples"
   ]
  },
  {
   "cell_type": "markdown",
   "metadata": {},
   "source": [
    "------------------------------------------------------------------------------------------------------"
   ]
  },
  {
   "cell_type": "markdown",
   "metadata": {},
   "source": [
    "### Tuple Sequence Type\n",
    "\n",
    "#### Reference\n",
    "https://docs.python.org/3.6/library/stdtypes.html#tuple\n",
    "\n",
    "Tuples are immutable sequences, typically used to store collections of heterogeneous data.  A tuple is defined by writing a series of comma-separated values encluded by parenthesis.  \n",
    "\n",
    "**Note: As an immutable type, tuple is hashable and therefore can be used as a key in a dictionary and stored in a set.**"
   ]
  },
  {
   "cell_type": "markdown",
   "metadata": {},
   "source": [
    "#### Methods\n",
    "\n"
   ]
  },
  {
   "cell_type": "markdown",
   "metadata": {},
   "source": [
    "##### Indexing"
   ]
  },
  {
   "cell_type": "markdown",
   "metadata": {},
   "source": [
    "##### Slicing"
   ]
  },
  {
   "cell_type": "markdown",
   "metadata": {},
   "source": [
    "#### Conversion"
   ]
  },
  {
   "cell_type": "markdown",
   "metadata": {},
   "source": [
    "#### Examples"
   ]
  },
  {
   "cell_type": "markdown",
   "metadata": {},
   "source": [
    "------------------------------------------------------------------------------------------------------"
   ]
  },
  {
   "cell_type": "markdown",
   "metadata": {},
   "source": [
    "### Range Sequence Type\n",
    "\n",
    "#### Reference\n",
    "https://docs.python.org/3.6/library/stdtypes.html#tuple\n",
    "\n",
    "Tuples are immutable sequences, typically used to store collections of heterogeneous data.  A tuple is defined by writing a series of comma-separated values encluded by parenthesis.  \n",
    "\n",
    "**Note: As an immutable type, tuple is hashable and therefore can be used as a key in a dictionary and stored in a set.**"
   ]
  },
  {
   "cell_type": "markdown",
   "metadata": {},
   "source": [
    "https://docs.python.org/3.6/library/stdtypes.html#range\n",
    "\n",
    "\n",
    "\n",
    "### Range\n",
    "\n",
    "#### Definition\n",
    "\n",
    "The range type represents an immutable sequence of numbers and is commonly used for looping a specific number of times in for loops.\n",
    "\n",
    "#### Nomenclature\n",
    "\n",
    "\n",
    "#### Operations\n",
    "\n",
    "\n",
    "##"
   ]
  },
  {
   "cell_type": "markdown",
   "metadata": {},
   "source": [
    "# Set\n",
    "\n",
    "#### Definition\n",
    "\n",
    "A set object is a mutable unordered collection of distinct hashable objects. Common uses include membership testing, removing duplicates from a sequence, and computing mathematical operations such as intersection, union, difference, and symmetric difference.\n",
    "\n",
    "#### Nomenclature\n",
    "\n",
    "    s = set([1, 2, 3, 4, 5]) # Set of five integers from list\n",
    "    s = set(('a', 'b', 'c', 'd')) # Set of characters from tuple\n",
    "    s = set('asdf') # Set of four characters from string\n",
    "    s = set() # Empty set\n",
    "\n",
    "#### Operations\n",
    "\n",
    "* isdisjoint\n",
    "* issubset or set <= other\n",
    "* set < other\n",
    "* issuperset or set >= other\n",
    "* set > other\n",
    "* union or set | other | ...\n",
    "* intersection or set & other & ...\n",
    "* difference or set - other  - ...\n",
    "* symmetric_difference or set ^ other\n",
    "* copy\n",
    "* update or set |= other\n",
    "* intersection_update or set &= other\n",
    "* difference_update or set -= other\n",
    "* symmetric_difference_update or set ^= other\n",
    "* add(x)\n",
    "* remove(x)\n",
    "* discard(x)\n",
    "* pop()\n",
    "* clear()"
   ]
  },
  {
   "cell_type": "markdown",
   "metadata": {},
   "source": [
    "### Bytes\n",
    "\n",
    "#### Definitions\n",
    "\n",
    "Bytes objects are immutable sequences of single bytes.\n",
    "\n",
    "#### Nomenclature\n",
    "\n",
    "    b = b'12345656' # Bytes object of length 8\n",
    "    b = bytes(10) # Zero-filled bytes object of length 10\n",
    "    b = bytes(range(10)) # Bytes object of length 10 filled with values 0 through 9\n",
    "\n",
    "#### Operations\n",
    "\n",
    "* hex() - Converts ASCII to hex values\n",
    "* fromhex(x) - Converts hex string to ASCII bytes\n",
    "\n",
    "**Note: Contains many ASCII-based (string-type) operations.  Care must be taken when using these operations with non-ASCII data."
   ]
  },
  {
   "cell_type": "markdown",
   "metadata": {},
   "source": [
    "### ByteArray\n",
    "\n",
    "Immutable counterpart to Bytes\n",
    "    \n",
    "### Common Sequence Operations    \n",
    "    \n",
    "* x in s\n",
    "* x not in s\n",
    "* s + t (concatenate)\n",
    "* s * n or n * s (repeat)\n",
    "* s[i]\n",
    "* s[start:stop]\n",
    "* s[start:stop:step]\n",
    "* len(s)\n",
    "* min(s)\n",
    "* max(s)\n",
    "* s.index(x)\n",
    "* s.count(x)\n",
    "\n",
    "    \n",
    "### Exercises\n",
    "\n",
    "### List\n",
    "\n",
    "### Tuple\n",
    "\n",
    "### Set\n",
    "\n",
    "### Bytes/ByteArray"
   ]
  },
  {
   "cell_type": "markdown",
   "metadata": {},
   "source": [
    "# Mapping\n",
    "\n",
    "## Dictionary\n",
    "\n",
    "### Keys\n",
    "\n",
    "### Values\n",
    "\n",
    "### Items\n",
    "\n",
    "## Exercise\n",
    "\n",
    "Rock, Paper, Scissors"
   ]
  },
  {
   "cell_type": "markdown",
   "metadata": {},
   "source": [
    "------------------------------------------------------------------------------------------------------"
   ]
  },
  {
   "cell_type": "markdown",
   "metadata": {},
   "source": [
    "Now that we have learned some basics of programming, input, processing and output, its time to learn new ways to represent the information that is stored within a program.  The mechanisms we use to store information are called data structures.  Python has several useful builtin data structures and also allows a programmer to create her own."
   ]
  },
  {
   "cell_type": "markdown",
   "metadata": {},
   "source": [
    "**List**\n",
    "\n",
    "\n",
    "\n",
    "**Note: While a list can hold values of different types, typically, a list contains values of a single type.**"
   ]
  },
  {
   "cell_type": "code",
   "execution_count": null,
   "metadata": {
    "collapsed": true
   },
   "outputs": [],
   "source": [
    "[1, 2, 3, 4, 5]\n",
    "['a', 'b', 'c', 'd', 'e']\n",
    "[1, 'a', 2, 'b', 3, 'c']"
   ]
  },
  {
   "cell_type": "markdown",
   "metadata": {},
   "source": [
    "Python also provides a **list** function that will create a list from an iterable.  An iterable is defined as:\n",
    "\n",
    "    Iterable: An object capable of returning its members one at a time.\n",
    "    \n",
    "Iteration is a fundamental property used by many data structures throughout Python."
   ]
  },
  {
   "cell_type": "code",
   "execution_count": null,
   "metadata": {
    "collapsed": true
   },
   "outputs": [],
   "source": [
    "list('abcde')"
   ]
  },
  {
   "cell_type": "code",
   "execution_count": null,
   "metadata": {
    "collapsed": true
   },
   "outputs": [],
   "source": [
    "list('12345')"
   ]
  },
  {
   "cell_type": "code",
   "execution_count": null,
   "metadata": {
    "collapsed": true
   },
   "outputs": [],
   "source": [
    "list(range(10))"
   ]
  },
  {
   "cell_type": "markdown",
   "metadata": {},
   "source": [
    "**List Operations**\n",
    "\n",
    "append\n",
    "index\n",
    "slice\n",
    "insert\n",
    "pop\n",
    "\n",
    "* Append\n",
    "\n",
    "   l = []\n",
    "   l.append('a')\n",
    "   l.append('b')\n",
    "   l.append('c')\n",
    "   l.append('d')\n",
    "   \n",
    "* Index\n",
    "    l = [1, 2, 3, 4, 5]\n",
    "    l.index[3]\n",
    "    l.index[0]\n",
    "    l.index[-1]\n",
    "    \n",
    "* Slice\n",
    "    l = [1, 2, 3, 4, 5]\n",
    "    l[0:5]\n",
    "    l[:]\n",
    "    l[3:5]\n",
    "    l[-1:-3]\n",
    "    \n",
    "* Push\n",
    "    l = []\n",
    "    l.push('a')\n",
    "    l.push('b')\n",
    "    l.push('c')\n",
    "    \n",
    "* Pop\n",
    "    l = [1, 2, 3, 4, 5]\n",
    "    l.pop(0)"
   ]
  },
  {
   "cell_type": "markdown",
   "metadata": {},
   "source": [
    "**List Exercises**"
   ]
  },
  {
   "cell_type": "markdown",
   "metadata": {},
   "source": [
    "1. Write a Python program to sum all the items in a list."
   ]
  },
  {
   "cell_type": "code",
   "execution_count": null,
   "metadata": {
    "collapsed": true
   },
   "outputs": [],
   "source": [
    "l = [1, 2, 3, 4, 5]\n",
    "sum(l)"
   ]
  },
  {
   "cell_type": "markdown",
   "metadata": {},
   "source": [
    "2. Write a Python program to multiplies all the items in a list."
   ]
  },
  {
   "cell_type": "code",
   "execution_count": null,
   "metadata": {
    "collapsed": true
   },
   "outputs": [],
   "source": [
    "def mul(iterable):\n",
    "     x = 1\n",
    "     for i in iterable:\n",
    "         x*=i\n",
    "     return x\n",
    "\n",
    "l = [1, 2, 3, 4, 5]\n",
    "\n",
    "mul(l)"
   ]
  },
  {
   "cell_type": "markdown",
   "metadata": {},
   "source": [
    "3. Write a Python program to get the largest number from a list."
   ]
  },
  {
   "cell_type": "code",
   "execution_count": null,
   "metadata": {
    "collapsed": true
   },
   "outputs": [],
   "source": [
    "l = [1, 2, 3, 4, 5]\n",
    "max(l)"
   ]
  },
  {
   "cell_type": "markdown",
   "metadata": {},
   "source": [
    "4. Write a Python program to get the smallest number from a list."
   ]
  },
  {
   "cell_type": "code",
   "execution_count": null,
   "metadata": {
    "collapsed": true
   },
   "outputs": [],
   "source": [
    "l = [1, 2, 3, 4, 5]\n",
    "min(l)"
   ]
  },
  {
   "cell_type": "markdown",
   "metadata": {},
   "source": [
    "5. Write a Python program to count the number of strings where the string length is 2 or more and the first and last character are same from a given list of strings."
   ]
  },
  {
   "cell_type": "code",
   "execution_count": null,
   "metadata": {
    "collapsed": true
   },
   "outputs": [],
   "source": [
    "s = ['this', 'that', 'these', 'those', 'it', 'what', 'wish']\n",
    "        \n",
    "for i in s:\n",
    "    if len(i) >= 2 and i[0] == i[-1]:\n",
    "        print(i)"
   ]
  },
  {
   "cell_type": "markdown",
   "metadata": {},
   "source": [
    "6. Write a Python program to get a list, sorted in increasing order by the last element in each tuple from a given list of non-empty tuples."
   ]
  },
  {
   "cell_type": "code",
   "execution_count": null,
   "metadata": {
    "collapsed": true
   },
   "outputs": [],
   "source": [
    "l = [(1, 2), (3, 2), (2, 3), (5, 3), (7,2)]\n",
    "sorted(l, key=lambda i: i[1], reverse=True)\n"
   ]
  },
  {
   "cell_type": "markdown",
   "metadata": {},
   "source": [
    "7. Write a Python program to remove duplicates from a list."
   ]
  },
  {
   "cell_type": "code",
   "execution_count": null,
   "metadata": {
    "collapsed": true
   },
   "outputs": [],
   "source": [
    "l = [1, 2, 3, 4, 1, 5, 6, 5, 7, 6]\n",
    "list(set(l))"
   ]
  },
  {
   "cell_type": "markdown",
   "metadata": {},
   "source": [
    "8. Write a Python program to check a list is empty or not."
   ]
  },
  {
   "cell_type": "code",
   "execution_count": null,
   "metadata": {
    "collapsed": true
   },
   "outputs": [],
   "source": [
    "def is_empty(l):\n",
    "    return l is None\n",
    "\n",
    "l = [1, 2, 3, 4, 5]\n",
    "print(is_empty(l))\n",
    "\n",
    "l = None\n",
    "print(is_empty(l))"
   ]
  },
  {
   "cell_type": "markdown",
   "metadata": {},
   "source": [
    "9. Write a Python program to clone or copy a list."
   ]
  },
  {
   "cell_type": "code",
   "execution_count": null,
   "metadata": {
    "collapsed": true
   },
   "outputs": [],
   "source": [
    "l = [1, 2, 3, 4, 5]\n",
    "print(id(l))\n",
    "\n",
    "m = l.copy()\n",
    "print(id(m))"
   ]
  },
  {
   "cell_type": "markdown",
   "metadata": {},
   "source": [
    "10. Write a Python program to find the list of words that are longer than n from a given list of words."
   ]
  },
  {
   "cell_type": "code",
   "execution_count": null,
   "metadata": {
    "collapsed": true
   },
   "outputs": [],
   "source": [
    "l = ['this', 'that', 'these', 'those', 'which', 'what', 'who', 'where']\n",
    "n = 4\n",
    "m = [i for i in l if len(i) > n]\n",
    "print(m)"
   ]
  },
  {
   "cell_type": "markdown",
   "metadata": {},
   "source": [
    "11. Write a Python function that takes two lists and returns True if they have at least one common member."
   ]
  },
  {
   "cell_type": "code",
   "execution_count": null,
   "metadata": {
    "collapsed": true
   },
   "outputs": [],
   "source": [
    "l = [1, 2, 3, 4, 5, 6, 7, 8, 9]\n",
    "m = [9, 5, 3, 1, 3, 8]\n",
    "\n",
    "True if True in [\n",
    "    i == j \n",
    "    for i in m \n",
    "    for j in l] else False"
   ]
  },
  {
   "cell_type": "markdown",
   "metadata": {},
   "source": [
    "12. Write a Python program to print a specified list after removing the 0th, 4th and 5th elements."
   ]
  },
  {
   "cell_type": "code",
   "execution_count": null,
   "metadata": {
    "collapsed": true
   },
   "outputs": [],
   "source": [
    "l = [1, 3, 2, 6, 5, 7, 8, 9, 4]\n",
    "\n",
    "r = [0, 4, 5]\n",
    "\n",
    "m = [v for i,v in enumerate(l) if i not in r]\n",
    "\n",
    "print(m)"
   ]
  },
  {
   "cell_type": "markdown",
   "metadata": {},
   "source": [
    "13. Write a Python program to generate a 3*4*6 3D array whose each element is *."
   ]
  },
  {
   "cell_type": "code",
   "execution_count": null,
   "metadata": {
    "collapsed": true
   },
   "outputs": [],
   "source": [
    "def make_3d_array(i, j, k):\n",
    "    return [[[ '*' for _i in range(i)] for _j in range(j)] for _k in range(k)]\n",
    "\n",
    "make_3d_array(3, 4, 6)\n",
    " "
   ]
  },
  {
   "cell_type": "markdown",
   "metadata": {},
   "source": [
    "14. Write a Python program to print the numbers of a specified list after removing even numbers from it. "
   ]
  },
  {
   "cell_type": "code",
   "execution_count": null,
   "metadata": {
    "collapsed": true
   },
   "outputs": [],
   "source": [
    "l = [1, 4, 3, 2, 5, 7 ,4, 5, 8]\n",
    "[i for i in l if i % 2 == 0]"
   ]
  },
  {
   "cell_type": "markdown",
   "metadata": {},
   "source": [
    "15. Write a Python program to shuffle and print a specified list."
   ]
  },
  {
   "cell_type": "code",
   "execution_count": null,
   "metadata": {
    "collapsed": true
   },
   "outputs": [],
   "source": [
    "import random\n",
    "\n",
    "l = [1, 2, 3, 4, 5, 6]\n",
    "random.shuffle(l)\n",
    "print(l)"
   ]
  },
  {
   "cell_type": "markdown",
   "metadata": {},
   "source": [
    "16. Write a Python program to generate and print a list of first and last 5 elements where the values are square of numbers between 1 and 30 (both included)."
   ]
  },
  {
   "cell_type": "code",
   "execution_count": null,
   "metadata": {
    "collapsed": true
   },
   "outputs": [],
   "source": [
    "import random\n",
    "import math\n",
    "\n",
    "l = [random.randint(0, 1000) for _ in range(100)]\n",
    "\n",
    "m = [i for i in l if 1 < math.sqrt(i) < 30]\n",
    "print(m[:5] + m[-5:])"
   ]
  },
  {
   "cell_type": "markdown",
   "metadata": {},
   "source": [
    "17. Write a Python program to generate and print a list except for the first 5 elements, where the values are square of numbers between 1 and 30 (both included)."
   ]
  },
  {
   "cell_type": "code",
   "execution_count": null,
   "metadata": {
    "collapsed": true
   },
   "outputs": [],
   "source": [
    "import random\n",
    "\n",
    "l = [random.randint(0, 1000) for _ in range(100)]\n",
    "\n",
    "m = [i for i in l if 1 < i < 30*30]\n",
    "print(m[5:])"
   ]
  },
  {
   "cell_type": "markdown",
   "metadata": {},
   "source": [
    "18. Write a Python program to generate all permutations of a list in Python."
   ]
  },
  {
   "cell_type": "code",
   "execution_count": null,
   "metadata": {
    "collapsed": true
   },
   "outputs": [],
   "source": [
    "import random\n",
    "import itertools\n",
    "\n",
    "n = 3\n",
    "l = [random.randint(0,n) for i in range(n)]\n",
    "\n",
    "[i for i in itertools.permutations(l)]"
   ]
  },
  {
   "cell_type": "markdown",
   "metadata": {},
   "source": [
    "19. Write a Python program to get the difference between the two lists."
   ]
  },
  {
   "cell_type": "code",
   "execution_count": null,
   "metadata": {
    "collapsed": true
   },
   "outputs": [],
   "source": [
    "l = [1, 2, 3]\n",
    "m = [5, 8, 3, 2, 1]\n",
    "\n",
    "print(list(set(m)-set(l)))"
   ]
  },
  {
   "cell_type": "markdown",
   "metadata": {},
   "source": [
    "20. Write a Python program access the index of a list."
   ]
  },
  {
   "cell_type": "code",
   "execution_count": null,
   "metadata": {
    "collapsed": true
   },
   "outputs": [],
   "source": [
    "l = [1, 2, 3, 4, 5]\n",
    "\n",
    "for k, v in enumerate(l):\n",
    "    print(k, v)"
   ]
  },
  {
   "cell_type": "markdown",
   "metadata": {},
   "source": [
    "21. Write a Python program to convert a list of characters into a string."
   ]
  },
  {
   "cell_type": "code",
   "execution_count": null,
   "metadata": {
    "collapsed": true
   },
   "outputs": [],
   "source": [
    "l = ['a', 'b', 'c', 'd', 'e', 'f', 'g', 'h']\n",
    "\n",
    "''.join(l)"
   ]
  },
  {
   "cell_type": "markdown",
   "metadata": {},
   "source": [
    "22. Write a Python program to find the index of an item in a specified list."
   ]
  },
  {
   "cell_type": "code",
   "execution_count": null,
   "metadata": {
    "collapsed": true
   },
   "outputs": [],
   "source": [
    "l = ['a', 'b', 'c', 'd', 'e', 'f', 'g']\n",
    "\n",
    "print(l.index('a'))\n",
    "print(l.index('e'))"
   ]
  },
  {
   "cell_type": "markdown",
   "metadata": {},
   "source": [
    "23. Write a Python program to flatten a shallow list."
   ]
  },
  {
   "cell_type": "code",
   "execution_count": null,
   "metadata": {
    "collapsed": true
   },
   "outputs": [],
   "source": [
    "import itertools\n",
    "\n",
    "l = [[2,4,3],[1,5,6], [9], [7,9,0]]\n",
    "m = list(itertools.chain(*l))\n",
    "print(m)"
   ]
  },
  {
   "cell_type": "markdown",
   "metadata": {},
   "source": [
    "24. Write a Python program to append a list to the second list."
   ]
  },
  {
   "cell_type": "code",
   "execution_count": null,
   "metadata": {
    "collapsed": true
   },
   "outputs": [],
   "source": [
    "l = [1, 2, 3, 4, 5]\n",
    "m = ['a', 'b', 'c', 'd']\n",
    "\n",
    "print(m + l)\n",
    "m.extend(l)\n",
    "print(m)"
   ]
  },
  {
   "cell_type": "markdown",
   "metadata": {},
   "source": [
    "25. Write a Python program to select an item randomly from a list."
   ]
  },
  {
   "cell_type": "code",
   "execution_count": null,
   "metadata": {
    "collapsed": true
   },
   "outputs": [],
   "source": [
    "import random\n",
    "\n",
    "l = [1, 2, 3, 4, 5, 6]\n",
    "\n",
    "l[random.randint(0, len(l))]"
   ]
  },
  {
   "cell_type": "markdown",
   "metadata": {},
   "source": [
    "26. Write a python program to check whether two lists are circularly identical."
   ]
  },
  {
   "cell_type": "code",
   "execution_count": null,
   "metadata": {
    "collapsed": true
   },
   "outputs": [],
   "source": [
    "list1 = [10, 10, 0, 0, 10]\n",
    "list2 = [10, 10, 10, 0, 0]\n",
    "list3 = [1, 10, 10, 0, 0]\n",
    "\n",
    "def rotate(l, n=1):\n",
    "    t = l.pop(0)\n",
    "    l.append(t)\n",
    "\n",
    "def linearly_circular(l1, l2):    \n",
    "    for i in range(len(l1)):    \n",
    "        rotate(l1)\n",
    "        if l1 == l2:\n",
    "            return True\n",
    "    return False\n",
    "\n",
    "\n",
    "linearly_circular(list2, list3)"
   ]
  },
  {
   "cell_type": "code",
   "execution_count": null,
   "metadata": {
    "collapsed": true
   },
   "outputs": [],
   "source": [
    "list1 = [10, 10, 0, 0, 10]\n",
    "list2 = [10, 10, 10, 0, 0]\n",
    "list3 = [1, 10, 10, 0, 0]\n",
    "\n",
    "def linearly_circular(l1, l2):\n",
    "    return ''.join(map(str, l1)) in ''.join(map(str, l2*2))\n",
    "\n",
    "linearly_circular(list1, list2)"
   ]
  },
  {
   "cell_type": "markdown",
   "metadata": {},
   "source": [
    "27. Write a Python program to find the second smallest number in a list."
   ]
  },
  {
   "cell_type": "code",
   "execution_count": null,
   "metadata": {
    "collapsed": true
   },
   "outputs": [],
   "source": [
    "import random\n",
    "\n",
    "l = [random.randint(0, 100) for _ in range(100)]\n",
    "\n",
    "l.sort()\n",
    "print(l[1])"
   ]
  },
  {
   "cell_type": "markdown",
   "metadata": {},
   "source": [
    "28. Write a Python program to find the second largest number in a list."
   ]
  },
  {
   "cell_type": "code",
   "execution_count": null,
   "metadata": {
    "collapsed": true
   },
   "outputs": [],
   "source": [
    "import random\n",
    "\n",
    "l = [random.randint(0, 100) for _ in range(100)]\n",
    "\n",
    "l.sort()\n",
    "print(l[-2])"
   ]
  },
  {
   "cell_type": "markdown",
   "metadata": {},
   "source": [
    "29. Write a Python program to get unique values from a list."
   ]
  },
  {
   "cell_type": "code",
   "execution_count": null,
   "metadata": {
    "collapsed": true
   },
   "outputs": [],
   "source": [
    "import random\n",
    "\n",
    "l = [random.randint(0, 100) for _ in range(100)]\n",
    "\n",
    "print(set(l))"
   ]
  },
  {
   "cell_type": "markdown",
   "metadata": {},
   "source": [
    "30. Write a Python program to get the frequency of the elements in a list."
   ]
  },
  {
   "cell_type": "code",
   "execution_count": null,
   "metadata": {
    "collapsed": true
   },
   "outputs": [],
   "source": [
    "import random\n",
    "import collections\n",
    "\n",
    "l = [random.randint(0, 100) for _ in range(100)]\n",
    "\n",
    "collections.Counter(l)"
   ]
  },
  {
   "cell_type": "markdown",
   "metadata": {},
   "source": [
    "31. Write a Python program to count the number of elements in a list within a specified range."
   ]
  },
  {
   "cell_type": "code",
   "execution_count": null,
   "metadata": {
    "collapsed": true
   },
   "outputs": [],
   "source": [
    "import random\n",
    "import collections\n",
    "\n",
    "l = [random.randint(0, 100) for _ in range(100)]\n",
    "\n",
    "def count_elements_in_range(l, min, max):\n",
    "    return collections.Counter([i for i in l if min < i < max])\n",
    "\n",
    "count_elements_in_range(l, 40, 60)"
   ]
  },
  {
   "cell_type": "markdown",
   "metadata": {},
   "source": [
    "32. Write a Python program to check whether a list contains a sublist."
   ]
  },
  {
   "cell_type": "code",
   "execution_count": null,
   "metadata": {
    "collapsed": true
   },
   "outputs": [],
   "source": [
    "l = [1, 2, 3, 4, 5]\n",
    "s = [1, 2, 3]\n",
    "\n",
    "print(set(s).issubset(set(l)) is not None)\n",
    "\n",
    "print(set(s) <= set(l))"
   ]
  },
  {
   "cell_type": "markdown",
   "metadata": {},
   "source": [
    "**Dictionary**"
   ]
  },
  {
   "cell_type": "code",
   "execution_count": null,
   "metadata": {
    "collapsed": true
   },
   "outputs": [],
   "source": []
  },
  {
   "cell_type": "markdown",
   "metadata": {},
   "source": [
    "http://www.w3resource.com/python-exercises/"
   ]
  },
  {
   "cell_type": "code",
   "execution_count": null,
   "metadata": {
    "collapsed": true
   },
   "outputs": [],
   "source": []
  },
  {
   "cell_type": "markdown",
   "metadata": {},
   "source": []
  },
  {
   "cell_type": "code",
   "execution_count": null,
   "metadata": {
    "collapsed": true
   },
   "outputs": [],
   "source": []
  }
 ],
 "metadata": {
  "anaconda-cloud": {},
  "kernelspec": {
   "display_name": "Python 3",
   "language": "python",
   "name": "python3"
  },
  "language_info": {
   "codemirror_mode": {
    "name": "ipython",
    "version": 3
   },
   "file_extension": ".py",
   "mimetype": "text/x-python",
   "name": "python",
   "nbconvert_exporter": "python",
   "pygments_lexer": "ipython3",
   "version": "3.6.0"
  }
 },
 "nbformat": 4,
 "nbformat_minor": 2
}
