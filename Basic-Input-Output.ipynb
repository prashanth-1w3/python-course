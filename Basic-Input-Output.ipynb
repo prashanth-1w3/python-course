{
 "cells": [
  {
   "cell_type": "markdown",
   "metadata": {},
   "source": [
    "---\n",
    "# Anatomy of a Program\n",
    "All programs can be decomposed into three parts:\n",
    "* Input\n",
    "* Processing\n",
    "* Output\n",
    "\n",
    "The goal of these lessons is to learn the fundamentals of input, processing and output using the Python programming language."
   ]
  },
  {
   "cell_type": "markdown",
   "metadata": {},
   "source": [
    "---\n",
    "## Output\n",
    "Program output can provide a variety of information.  When we are using a web browser to go to our favorite web site, the web browser is the program and it presents to us text, pictures, and video.  In a word processing program, the program output is the document you are typing.  For a command-line program, like what we'll see in this tutorial, the program shows plain text.\n",
    "\n",
    "The most basic method for producing output in Python is the *print()* function.  For now, don't worry about the details of what a function is, let's just accept the word and see how the *print()* function works.\n",
    "\n",
    "### Print Function\n",
    "Below is an example of using the *print()* function.  When you execute the cell below, Python will print the value 1.  \n",
    "\n",
    "Things to try:\n",
    "* Change 1 to a different number, 5, 10, 1000, and execute the cell\n",
    "    * print(5)\n",
    "    * print(10)\n",
    "    * print(1000)\n",
    "* Change 1 to a letter and execute the cell\n",
    "    * print(a)\n",
    "    \n",
    "**Note: What happened?  This is our first error in Python.  We'll talk more about errors later.  The important lesson here is that in order for Python to print your text, i.e., one or more characters, also known as a string, we must tell Python where the string starts and stops.  We do this by surrounding the characters with either a single quote, e.g., 'this is a string' or a doule quote, e.g., \"this is also a string\".  We'll learn more about quoting when we discuss strings.  For now, just understand that to print a sequence of characters using print all of the characters must be single quoted or double quoted.**\n",
    "\n",
    "    * print ('a')\n",
    "    * print('cheese')\n",
    "    * print('hello world!')"
   ]
  },
  {
   "cell_type": "code",
   "execution_count": 1,
   "metadata": {
    "collapsed": false
   },
   "outputs": [
    {
     "name": "stdout",
     "output_type": "stream",
     "text": [
      "a\n"
     ]
    }
   ],
   "source": [
    "print('a')"
   ]
  },
  {
   "cell_type": "markdown",
   "metadata": {},
   "source": [
    "### What Else Can Print Do?"
   ]
  },
  {
   "cell_type": "code",
   "execution_count": null,
   "metadata": {
    "collapsed": true
   },
   "outputs": [],
   "source": [
    "help(print)"
   ]
  },
  {
   "cell_type": "markdown",
   "metadata": {},
   "source": [
    "#### Print Several Values"
   ]
  },
  {
   "cell_type": "code",
   "execution_count": 2,
   "metadata": {
    "collapsed": false
   },
   "outputs": [
    {
     "name": "stdout",
     "output_type": "stream",
     "text": [
      "1 2 3 4 5\n",
      "a b c d e\n",
      "1 a 2 b 3 c\n"
     ]
    }
   ],
   "source": [
    "# Each value passed to print will be printed in-order.\n",
    "print(1, 2, 3, 4, 5)\n",
    "print('a', 'b', 'c', 'd', 'e')\n",
    "print(1, 'a', 2, 'b', 3, 'c')\n",
    "\n",
    "# Notice that each call to print() separates the values with a space and places the values on a different line.\n",
    "# We'll see why next."
   ]
  },
  {
   "cell_type": "markdown",
   "metadata": {},
   "source": [
    "#### Change Separator"
   ]
  },
  {
   "cell_type": "code",
   "execution_count": 3,
   "metadata": {
    "collapsed": false
   },
   "outputs": [
    {
     "name": "stdout",
     "output_type": "stream",
     "text": [
      "1:2:3:4:5\n",
      "a<->b<->c<->d<->e\n",
      "1_/^\\_a_/^\\_2_/^\\_b_/^\\_3_/^\\_c\n"
     ]
    }
   ],
   "source": [
    "# The default separator for print() is a space, e.g. sep=' '.  A space is a character that can be printed just like 'a' and 'z'.\n",
    "# In code, we using the spacebar to insert a space between single or double quotes.\n",
    "\n",
    "# Print() allows us to change the separator to be any character sequence.\n",
    "\n",
    "print(1, 2, 3, 4, 5, sep=':')\n",
    "print('a', 'b', 'c', 'd', 'e', sep=\"<->\")\n",
    "print(1, 'a', 2, 'b', 3, 'c', sep='_/^\\_')"
   ]
  },
  {
   "cell_type": "markdown",
   "metadata": {},
   "source": [
    "#### Change End-of-Line"
   ]
  },
  {
   "cell_type": "code",
   "execution_count": 4,
   "metadata": {
    "collapsed": false
   },
   "outputs": [
    {
     "name": "stdout",
     "output_type": "stream",
     "text": [
      "1 2 3 4 5:5 4 3 2 1\n",
      "a b c d e<=>e d c b a\n",
      "x,y,z\n",
      "1+2+3=6\n"
     ]
    }
   ],
   "source": [
    "# The default end-of-line for print() is the 'new line' character, e.g., '\\n'.  The backslash is a character that gives special\n",
    "# meaning to other characters.  In this case, '\\n' means new line.\n",
    "\n",
    "# If backslash is a special character, you might ask how can we print a backslash?  See the exercises.\n",
    "\n",
    "print(1, 2, 3, 4, 5, end=':')\n",
    "print(5, 4, 3, 2, 1)\n",
    "\n",
    "print('a', 'b', 'c', 'd', 'e', end='<=>')\n",
    "print('e', 'd', 'c', 'b', 'a')\n",
    "\n",
    "print('x', end=',')\n",
    "print('y', end=',')\n",
    "print('z')\n",
    "\n",
    "print(1, 2, 3, sep='+', end='=')\n",
    "print(6)\n",
    "\n",
    "# Note: This is NOT how we do math in Python, it is only an illustration of how to print characters."
   ]
  },
  {
   "cell_type": "markdown",
   "metadata": {},
   "source": [
    "---\n",
    "### Exercises\n",
    "1. Print your first name\n",
    "2. Print your first and last name\n",
    "3. Print your last and first name separated by a comma, e.g., Jones, Sally\n",
    "4. Print your name and address as it would appear on an envelope:\n",
    "    Sally Jones\n",
    "    1234 Main Street\n",
    "    Murrieta, CA  92561\n",
    "5. Print today's date in the following formats\n",
    "    January 31st, 2017\n",
    "    01/31/2017\n",
    "    31JAN2017\n",
    "6. Print the time as HH:MM:SS\n",
    "7. Print the numbers 1 through 10 separated by a backslash\n",
    "    1\\2\\3\\4\\5\\6\\7\\8\\9\\10\n",
    "8. Print the numbers 1 through 5 using '\\t' as the separator"
   ]
  },
  {
   "cell_type": "code",
   "execution_count": null,
   "metadata": {
    "collapsed": true
   },
   "outputs": [],
   "source": [
    "# 1. Print your first name\n",
    "\n",
    "# Enter the code below this line.  Press shift+enter to see the result\n"
   ]
  },
  {
   "cell_type": "code",
   "execution_count": null,
   "metadata": {
    "collapsed": true
   },
   "outputs": [],
   "source": [
    "# 2. Print your first and last name\n",
    "\n",
    "# Enter the code below this line.  Press shift+enter to see the result\n"
   ]
  },
  {
   "cell_type": "code",
   "execution_count": null,
   "metadata": {
    "collapsed": true
   },
   "outputs": [],
   "source": [
    "# 3. Print your last and first name separated by a comma, e.g., Jones, Sally\n",
    "\n",
    "# Enter the code below this line.  Press shift+enter to see the result\n"
   ]
  },
  {
   "cell_type": "code",
   "execution_count": null,
   "metadata": {
    "collapsed": true
   },
   "outputs": [],
   "source": [
    "# 4. Print your name and address as it would appear on an envelope:\n",
    "#     Sally Jones\n",
    "#     1234 Main Street\n",
    "#     Murrieta, CA  92561\n",
    "\n",
    "# Enter the code below this line.  Press shift+enter to see the result\n"
   ]
  },
  {
   "cell_type": "code",
   "execution_count": null,
   "metadata": {
    "collapsed": true
   },
   "outputs": [],
   "source": [
    "# 5. Print today's date in the following formats\n",
    "#     January 31st, 2017\n",
    "#     01/31/2017\n",
    "#     31JAN2017\n",
    "\n",
    "# Enter the code below this line.  Press shift+enter to see the result\n"
   ]
  },
  {
   "cell_type": "code",
   "execution_count": null,
   "metadata": {
    "collapsed": true
   },
   "outputs": [],
   "source": [
    "# 6. Print the time as HH:MM:SS\n",
    "\n",
    "# Enter the code below this line.  Press shift+enter to see the result\n"
   ]
  },
  {
   "cell_type": "code",
   "execution_count": null,
   "metadata": {
    "collapsed": true
   },
   "outputs": [],
   "source": [
    "# 7. Print the numbers 1 through 10 separated by a backslash\n",
    "#     1\\2\\3\\4\\5\\6\\7\\8\\9\\10\n",
    "\n",
    "# Enter the code below this line.  Press shift+enter to see the result\n"
   ]
  },
  {
   "cell_type": "code",
   "execution_count": null,
   "metadata": {
    "collapsed": true
   },
   "outputs": [],
   "source": [
    "# 8. Print the numbers 1 through 5 using '\\t' as the separator\n",
    "\n",
    "# Enter the code below this line.  Press shift+enter to see the result\n"
   ]
  },
  {
   "cell_type": "markdown",
   "metadata": {},
   "source": [
    "---\n",
    "### Answers"
   ]
  },
  {
   "cell_type": "code",
   "execution_count": 5,
   "metadata": {
    "collapsed": false
   },
   "outputs": [
    {
     "name": "stdout",
     "output_type": "stream",
     "text": [
      "1. Print your first name\n",
      "Sally\n",
      "\n",
      "2. Print your first and last name\n",
      "Sally Jones\n",
      "Sally Jones\n",
      "\n",
      "3. Print your last and first name separated by a comma\n",
      "Jones, Sally\n",
      "Jones,Sally\n",
      "Jones, Sally\n",
      "\n",
      "4. Print your name and address as it would appear on an envelope\n",
      "Sally Jones\n",
      "1234 Main Street\n",
      "Murrieta, CA 92651\n",
      "\n",
      "5. Print today's date\n",
      "January 31st, 2017\n",
      "January 31st,2017\n",
      "01/31/2017\n",
      "01/31/2017\n",
      "31JAN17\n",
      "31JAN17\n",
      "\n",
      "6. Print the time as HH:MM:SS\n",
      "06:14:59\n",
      "06:14:59\n",
      "\n",
      "7. Print the numbers 1 through 10 separated by a backslash\n",
      "1\\2\\3\\4\\5\\6\\7\\8\\9\\10\n",
      "\n",
      "8. Print the numbers 1 through 5 using '\t' as the separator\n",
      "1\t2\t3\t4\t5\n",
      "\n"
     ]
    }
   ],
   "source": [
    "print('1. Print your first name')\n",
    "print('Sally')\n",
    "print()\n",
    "\n",
    "print('2. Print your first and last name')\n",
    "print('Sally Jones')\n",
    "print('Sally', 'Jones')\n",
    "print()\n",
    "\n",
    "print('3. Print your last and first name separated by a comma')\n",
    "print('Jones, Sally')\n",
    "print('Jones', 'Sally', sep=',')\n",
    "print('Jones', end=', ')\n",
    "print('Sally')\n",
    "print()\n",
    "\n",
    "print('4. Print your name and address as it would appear on an envelope')\n",
    "print('Sally Jones')\n",
    "print('1234 Main Street')\n",
    "print('Murrieta, CA 92651')\n",
    "print()\n",
    "\n",
    "print('5. Print today\\'s date')\n",
    "print(\"January 31st, 2017\")\n",
    "print(\"January 31st\", '2017', sep=',')\n",
    "print(\"01/31/2017\")\n",
    "print('01', '31', '2017', sep='/')\n",
    "print('31JAN17')\n",
    "print('31','JAN', '17', sep='')\n",
    "print()\n",
    "\n",
    "print('6. Print the time as HH:MM:SS')\n",
    "print('06:14:59')\n",
    "print('06','14','59', sep=':')\n",
    "print()\n",
    "\n",
    "print('7. Print the numbers 1 through 10 separated by a backslash')\n",
    "print(1, 2, 3, 4, 5, 6, 7, 8, 9, 10, sep='\\\\')\n",
    "print()\n",
    "\n",
    "print('8. Print the numbers 1 through 5 using \\'\\t\\' as the separator')\n",
    "print(1, 2, 3, 4, 5, sep='\\t')\n",
    "print()"
   ]
  },
  {
   "cell_type": "markdown",
   "metadata": {},
   "source": [
    "---\n",
    "## Input\n",
    "We've seen how to output information in Python using the *print()* function.  Just as important, is how to get information into a program.  In modern computers and devices, we pointer devices, e.g., mouse, pen, and touch.  We also enter text using a keyboard.   Now we will see out get input from the user using the *input()* function.\n",
    "\n",
    "### Input Function\n",
    "Below is an example of using the *input()* function.  When you execute the cell, Python will prompt for input.  You can type any character key on the keyboard to generate input.  To complete the input, type the 'enter' key.\n",
    "\n",
    "Things to try:\n",
    "* Type numbers\n",
    "* Type letters\n",
    "* Type letters and numbers\n",
    "* Type punctuation"
   ]
  },
  {
   "cell_type": "code",
   "execution_count": 6,
   "metadata": {
    "collapsed": false
   },
   "outputs": [
    {
     "name": "stdout",
     "output_type": "stream",
     "text": [
      "lkjsdflkjsdf\n"
     ]
    },
    {
     "data": {
      "text/plain": [
       "'lkjsdflkjsdf'"
      ]
     },
     "execution_count": 6,
     "metadata": {},
     "output_type": "execute_result"
    }
   ],
   "source": [
    "input()"
   ]
  },
  {
   "cell_type": "markdown",
   "metadata": {},
   "source": [
    "Now, an important question is what happens to the characters you type?  In the code above, they are just printed when you type 'enter'.  However, as a program, that is not particularly useful.  We need a way to capture the input characters.  To do that, we need some place or mechanism to store the values.  Such a thing exists and it is called a variable.\n",
    "\n",
    "Below, the input characters are being assigned to a variable named 'values' and the print function is being used to print the variable 'values'."
   ]
  },
  {
   "cell_type": "code",
   "execution_count": 7,
   "metadata": {
    "collapsed": false
   },
   "outputs": [
    {
     "name": "stdout",
     "output_type": "stream",
     "text": [
      "1234\n",
      "1234\n"
     ]
    }
   ],
   "source": [
    "values = input()\n",
    "print(values)"
   ]
  },
  {
   "cell_type": "markdown",
   "metadata": {
    "collapsed": true
   },
   "source": [
    "**Congratulations!  We now have all the elements of a program: Input, Processing, and Output.  Admittedly, there isn't much processing, but it is a start.  Let's see what improvements we can make.**"
   ]
  },
  {
   "cell_type": "markdown",
   "metadata": {},
   "source": [
    "### What Else Can Input Do"
   ]
  },
  {
   "cell_type": "markdown",
   "metadata": {},
   "source": [
    "help(input)\n",
    "\n",
    "Help on built-in function input in module builtins:\n",
    "\n",
    "input(prompt=None, /)\n",
    "    Read a string from standard input.  The trailing newline is stripped.\n",
    "\n",
    "    The prompt string, if given, is printed to standard output without a\n",
    "    trailing newline before reading input.\n",
    "\n",
    "    If the user hits EOF (*nix: Ctrl-D, Windows: Ctrl-Z+Return), raise EOFError.\n",
    "    On *nix systems, readline is used if available.  "
   ]
  },
  {
   "cell_type": "markdown",
   "metadata": {},
   "source": [
    "#### Display A Prompt"
   ]
  },
  {
   "cell_type": "code",
   "execution_count": 8,
   "metadata": {
    "collapsed": false
   },
   "outputs": [
    {
     "name": "stdout",
     "output_type": "stream",
     "text": [
      "Please enter a number between 1 and 10 --> 8\n"
     ]
    },
    {
     "data": {
      "text/plain": [
       "'8'"
      ]
     },
     "execution_count": 8,
     "metadata": {},
     "output_type": "execute_result"
    }
   ],
   "source": [
    "input(\"Please enter a number between 1 and 10 --> \")"
   ]
  },
  {
   "cell_type": "markdown",
   "metadata": {},
   "source": [
    "#### Observation\n",
    "The *input()* function always returns a string (one or more characters).  However, it is important to understand that the character '1' that we type on the keyboard is not the same as the number 1.  In a computer, the character '1' is different than the number 1 and in Python each of these values has a different type.  To illustrate this, let us try and add the number 1 to the character '1'."
   ]
  },
  {
   "cell_type": "code",
   "execution_count": 9,
   "metadata": {
    "collapsed": false
   },
   "outputs": [
    {
     "ename": "TypeError",
     "evalue": "unsupported operand type(s) for +: 'int' and 'str'",
     "output_type": "error",
     "traceback": [
      "\u001b[0;31m---------------------------------------------------------------------------\u001b[0m",
      "\u001b[0;31mTypeError\u001b[0m                                 Traceback (most recent call last)",
      "\u001b[0;32m<ipython-input-9-8b583296c78b>\u001b[0m in \u001b[0;36m<module>\u001b[0;34m()\u001b[0m\n\u001b[1;32m      2\u001b[0m \u001b[0mvalue2\u001b[0m \u001b[1;33m=\u001b[0m \u001b[1;34m'1'\u001b[0m\u001b[1;33m\u001b[0m\u001b[0m\n\u001b[1;32m      3\u001b[0m \u001b[1;33m\u001b[0m\u001b[0m\n\u001b[0;32m----> 4\u001b[0;31m \u001b[0mvalue1\u001b[0m \u001b[1;33m+\u001b[0m \u001b[0mvalue2\u001b[0m\u001b[1;33m\u001b[0m\u001b[0m\n\u001b[0m",
      "\u001b[0;31mTypeError\u001b[0m: unsupported operand type(s) for +: 'int' and 'str'"
     ]
    }
   ],
   "source": [
    "value1 = 1\n",
    "value2 = '1'\n",
    "\n",
    "value1 + value2"
   ]
  },
  {
   "cell_type": "markdown",
   "metadata": {},
   "source": [
    "This is our second error in Python and it tells us that a TypeError occurred.  Let's take some time to understand the anatomy of this, and all, errors.  So, in addition to understanding the difference between '1' and 1 we will also look at that Python tells use when we make an error.\n",
    "\n",
    "First, Python tells us there is a TypeError.\n",
    "\n",
    "**`TypeError                                 Traceback (most recent call last)`**\n",
    "\n",
    "This means that Python doesn't like what we tried do because the 'types' are not compatible.\n",
    "\n",
    "Next, Python tells us exactly where the error is.\n",
    "\n",
    "**`----> 4 value1 + value2`**\n",
    "\n",
    "Line 4, so there is something wrong with adding value1 and value2\n",
    "\n",
    "Lastly, Python gives more information about the error\n",
    "\n",
    "**`TypeError: unsupported operand type(s) for +: 'int' and 'str'`**\n",
    "\n",
    "According to Python, the problem is that we are trying to add 'int' and 'str'.  What are 'int' and 'str'?  Well, 'int' is a Python type which represents all positive and negative numbers and 'str', an abbreviation for string, which means one or more characters.\n",
    "\n",
    "So, we now see that value1, an integer, and value2, a string, are different types and apparently we can't do math on integers and strings.  How do we fix this?  Easy.  Python gives us a function to convert strings to integers.  It's the *int()* function.  Let's try our example again using the *int()* function."
   ]
  },
  {
   "cell_type": "code",
   "execution_count": 10,
   "metadata": {
    "collapsed": false
   },
   "outputs": [
    {
     "data": {
      "text/plain": [
       "2"
      ]
     },
     "execution_count": 10,
     "metadata": {},
     "output_type": "execute_result"
    }
   ],
   "source": [
    "value1 = 1\n",
    "value2 = '1'\n",
    "\n",
    "value1 + int(value2)"
   ]
  },
  {
   "cell_type": "markdown",
   "metadata": {},
   "source": [
    "Success!!  Now, let's get back to the *input()* function.  The *input()* function always returns characters.  If we want those characters to be treated a number then we need to use the *int()* to convert the result.  Here are a couple of ways to do that"
   ]
  },
  {
   "cell_type": "code",
   "execution_count": null,
   "metadata": {
    "collapsed": false
   },
   "outputs": [
    {
     "name": "stdout",
     "output_type": "stream",
     "text": [
      "Enter a number: 123\n",
      "oops\n"
     ]
    }
   ],
   "source": [
    "# Get the characters\n",
    "value1 = input(\"Enter a number: \")\n",
    "# Convert the characters to a number and assign the number to the same variable\n",
    "value1 = int(value1)\n",
    "\n",
    "# OR\n",
    "\n",
    "# Place the input() function inside the int() function\n",
    "value1 = int(input(\"Enter a number: \"))"
   ]
  },
  {
   "cell_type": "markdown",
   "metadata": {
    "collapsed": true
   },
   "source": [
    "---\n",
    "### Exercises\n",
    "\n",
    "1. Prompt the user to enter a number between 1 and 10, capture the number in a variable named 'number', print the text 'You entered: ' followed by the variable 'number'\n",
    "2. Prompt the user to enter their birthday, capture their birthday, and print it\n",
    "3. Prompt the user to enter an address capturing the address in variables named 'street', 'city', 'state', and 'zipcode'.  Print the address all on one line\n",
    "4. Prompt the user to enter two numbers, value1 and value2, print value 1 plus value2"
   ]
  },
  {
   "cell_type": "code",
   "execution_count": null,
   "metadata": {
    "collapsed": true
   },
   "outputs": [],
   "source": [
    "# 1. Prompt the user to enter a number between 1 and 10, capture the number in a variable named 'number', print the text \n",
    "# 'You entered: ' followed by the variable 'number'\n",
    "\n",
    "# Enter the code below this line.  Press shift+enter to see the result\n"
   ]
  },
  {
   "cell_type": "code",
   "execution_count": null,
   "metadata": {
    "collapsed": true
   },
   "outputs": [],
   "source": [
    "# 2. Prompt the user to enter their birthday, capture their birthday, and print it\n",
    "\n",
    "# Enter the code below this line.  Press shift+enter to see the result\n"
   ]
  },
  {
   "cell_type": "code",
   "execution_count": null,
   "metadata": {
    "collapsed": true
   },
   "outputs": [],
   "source": [
    "# 3. Prompt the user to enter an address capturing the address in variables named 'street', 'city', 'state', and 'zipcode'.  \n",
    "# Print the address all on one line\n",
    "\n",
    "# Enter the code below this line.  Press shift+enter to see the result\n"
   ]
  },
  {
   "cell_type": "code",
   "execution_count": null,
   "metadata": {
    "collapsed": true
   },
   "outputs": [],
   "source": [
    "# 4. Prompt the user to enter two numbers, value1 and value2, print value 1 plus value2\n",
    "\n",
    "# Enter the code below this line.  Press shift+enter to see the result\n"
   ]
  },
  {
   "cell_type": "markdown",
   "metadata": {},
   "source": [
    "---\n",
    "### Answers"
   ]
  },
  {
   "cell_type": "code",
   "execution_count": 1,
   "metadata": {
    "collapsed": false
   },
   "outputs": [
    {
     "name": "stdout",
     "output_type": "stream",
     "text": [
      "Enter a number between 1 and 10: 10\n",
      "You entered => 10\n"
     ]
    }
   ],
   "source": [
    "# 1. Prompt the user to enter a number between 1 and 10, capture the number in a variable named 'number', \n",
    "#    print the text 'You entered: ' followed by the variable 'number'\n",
    "number = input(\"Enter a number between 1 and 10: \")\n",
    "print(\"You entered\", number, sep=' => ')"
   ]
  },
  {
   "cell_type": "code",
   "execution_count": 2,
   "metadata": {
    "collapsed": false
   },
   "outputs": [
    {
     "name": "stdout",
     "output_type": "stream",
     "text": [
      "Enter your birthday (MM/DD/YYYY): 01/01/2001\n",
      "Your birthday is : 01/01/2001\n"
     ]
    }
   ],
   "source": [
    "# 2. Prompt the user to enter their birthday, capture their birthday, and print it\n",
    "birthday = input(\"Enter your birthday (MM/DD/YYYY): \")\n",
    "print(\"Your birthday is\", birthday, sep=' : ')"
   ]
  },
  {
   "cell_type": "code",
   "execution_count": null,
   "metadata": {
    "collapsed": true
   },
   "outputs": [],
   "source": [
    "# 3. Prompt the user to enter an address capturing the address in variables\n",
    "#    named 'street', 'city', 'state', and 'zipcode'.  Print the address all on one line\n",
    "print(\"Enter an address: street, city, state and zipcode\")\n",
    "street = input(\"Enter the street: \")\n",
    "city = input(\"Enter the city: \")\n",
    "state = input(\"Enter the state: \")\n",
    "zipcode = input(\"Enter the zipcode: \")"
   ]
  },
  {
   "cell_type": "code",
   "execution_count": null,
   "metadata": {
    "collapsed": true
   },
   "outputs": [],
   "source": [
    "print(street, end=', ')\n",
    "print(city, state, sep=', ', end=' ')\n",
    "print(zipcode)"
   ]
  },
  {
   "cell_type": "code",
   "execution_count": 3,
   "metadata": {
    "collapsed": false
   },
   "outputs": [
    {
     "name": "stdout",
     "output_type": "stream",
     "text": [
      "Enter a number: 49\n",
      "Enter a number: 39\n",
      "49 + 39 = 88\n"
     ]
    }
   ],
   "source": [
    "# 4. Prompt the user to enter two numbers, value1 and value2, \n",
    "#    and a math operation, + - / *, perform the operation and print the results\n",
    "value1 = int(input(\"Enter a number: \"))\n",
    "value2 = int(input(\"Enter a number: \"))\n",
    "\n",
    "print(value1, '+', value2, '=', value1 + value2)"
   ]
  },
  {
   "cell_type": "markdown",
   "metadata": {},
   "source": [
    "---\n",
    "## Processing\n",
    "\n",
    "So far we have the basics of a program.  We can accept input from the user, we can do rudamentary processing (capturing the input) and we can print output.  But there is certainly more to processing than what we've done.  To do more processing, we need to learn about more features of a programming language.  The next features we will learn are:\n",
    "\n",
    "* Conditionals - if, elif, else\n",
    "* Loop - for and while\n",
    "* Data Types - list and string\n",
    "\n",
    "\n",
    "### Conditionals\n",
    "In programming is necessary to be able to compare one or more things in order to make a choice about what to do next.  For example, if you ask the user to enter a number between 1 and 10 an important check would be to ensure that user entered a valid number and not something else and that the number entered is in the specified range.  To make these decisions we use conditionals."
   ]
  },
  {
   "cell_type": "code",
   "execution_count": 7,
   "metadata": {
    "collapsed": false
   },
   "outputs": [
    {
     "name": "stdout",
     "output_type": "stream",
     "text": [
      "10 is greater than 1\n"
     ]
    }
   ],
   "source": [
    "if 10 > 1:\n",
    "    print('10 is greater than 1')\n",
    "else:\n",
    "    print('10 is not greater than 1')"
   ]
  },
  {
   "cell_type": "markdown",
   "metadata": {},
   "source": [
    "This is not particularly useful because it is always the same.  Let's store the first value in a variable and compare a variable to a value."
   ]
  },
  {
   "cell_type": "code",
   "execution_count": 8,
   "metadata": {
    "collapsed": false
   },
   "outputs": [
    {
     "name": "stdout",
     "output_type": "stream",
     "text": [
      "10 is greater than 1\n"
     ]
    }
   ],
   "source": [
    "value = 10\n",
    "if value > 1:\n",
    "    print(value, 'is greater than 1')\n",
    "else:\n",
    "    print(value, 'is not greater than 1')"
   ]
  },
  {
   "cell_type": "markdown",
   "metadata": {},
   "source": [
    "We can compare two variables"
   ]
  },
  {
   "cell_type": "code",
   "execution_count": 9,
   "metadata": {
    "collapsed": false
   },
   "outputs": [
    {
     "name": "stdout",
     "output_type": "stream",
     "text": [
      "10 is greater than 1\n"
     ]
    }
   ],
   "source": [
    "value1 = 10\n",
    "value2 = 1\n",
    "\n",
    "if value1 > value2:\n",
    "    print(value1, 'is greater than', value2)\n",
    "else:\n",
    "    print(value1, 'is not greater than', value2)"
   ]
  },
  {
   "cell_type": "markdown",
   "metadata": {},
   "source": [
    "As you can see, the conditional above can choose one or two options.  \n",
    "\n",
    "Now that we've seen a conditional work, let's take it a part and understand what is happening.\n",
    "\n",
    "In a condition, the elements that are being compared, \n",
    "\n",
    "    value1 > value2\n",
    "\n",
    "are called an expression.  \n",
    "\n",
    "When expression is evaluated or compared, the results will either be True or False.  \n",
    "\n",
    "When the expression evaluates to True, the code under the 'if' is run.  \n",
    "\n",
    "    print(value1, 'is greater than', value2)\n",
    "\n",
    "When the expression evaluates to False, the code under the 'else' is run.\n",
    "\n",
    "    print(value1, 'is not greater than', value2)\n",
    "    \n",
    "**Note: Python requires a colon (':') be placed after the expression.  This is the syntax for Python.  Every programming language defines its own syntax.**\n",
    "\n",
    "Above we used the greater than '>' symbol or logical operator.  A logical operator is an operator that evaluates to either True or False.  There are many other logical operators:\n",
    "\n",
    "Symbol | Name\n",
    ":---: | :---:\n",
    "< | less than\n",
    "<= | less than or equal\n",
    "\\> | greater than\n",
    "\\>= | greater than or equal\n",
    "== | equal\n",
    "!= | not equal\n",
    "and | boolean and\n",
    "or | boolean or\n",
    "\n",
    "Try this experiment.  Below is code that compares two numbers in variables value1 and value2.  Change only the operator in the expression and see what happens.  Try them all."
   ]
  },
  {
   "cell_type": "code",
   "execution_count": 11,
   "metadata": {
    "collapsed": false
   },
   "outputs": [
    {
     "name": "stdout",
     "output_type": "stream",
     "text": [
      "The expression was True\n"
     ]
    }
   ],
   "source": [
    "value1 = 1\n",
    "value2 = 2\n",
    "\n",
    "if value1 or value2:\n",
    "    print(\"The expression was True\")\n",
    "else:\n",
    "    print(\"The expression was False\")"
   ]
  },
  {
   "cell_type": "markdown",
   "metadata": {},
   "source": [
    "**Results**\n",
    "\n",
    "Operator | Output\n",
    ":---: | :---:\n",
    "< | The expression was True\n",
    "<= | The expression was True\n",
    "\\> | The expression was False\n",
    "\\>= | The expression was False\n",
    "\\== | The expression was False\n",
    "!= | The expression was True\n",
    "and | The expression was True\n",
    "or | The expression was True\n",
    "\n",
    "Probably everything makes sense except for 'and' and 'or'.  These are boolean operators and they work on boolean expressions, that is, expressions that are either True or False.  When we used 'and' and 'or' with numbers, Python converted the numbers to boolean values before evaulating the expression.  How does that work?\n",
    "\n",
    "Well, if a number is 0 then it will become False when converted.  If the number is anything other than 0 then it will become True when converted.  Above, 1 and 2 are 'anything other than 0' so they become True.  So, then 'True and True' and 'True or True' both evaluate to be True.\n",
    "\n",
    "You can change either value1 or value 2 or both to be 0 and see what happens.\n",
    "\n",
    "Value1 | Value2 | Operator | Output\n",
    ":---: |:---: |:---: | :---:\n",
    "0 | 0 | or | The expression was False\n",
    "0 | 2 | or | The expression was True\n",
    "1 | 0 | or | The expression was True\n",
    "1 | 2 | or | The expression was True\n",
    "0 | 0 | and | The expression was False\n",
    "0 | 2 | and | The expression was True\n",
    "1 | 0 | and | The expression was False\n",
    "1 | 2 | and | The expression was True\n"
   ]
  },
  {
   "cell_type": "code",
   "execution_count": null,
   "metadata": {
    "collapsed": true
   },
   "outputs": [],
   "source": [
    "if 10 > 1:\n",
    "    pass\n",
    "elif 1 < 10:\n",
    "    pass\n",
    "else:\n",
    "    pass"
   ]
  },
  {
   "cell_type": "markdown",
   "metadata": {},
   "source": [
    "**Note: Add if/elif/else**"
   ]
  },
  {
   "cell_type": "markdown",
   "metadata": {},
   "source": [
    "---\n",
    "### Exercises\n",
    "1. Prompt the user for two numbers.  Print out the bigger number.\n",
    "2. Prompt the user for three numbers.  Print out the smallest number.\n",
    "3. Prompt the user for a number.  Print out whether the number if less than, greater than, or equal to 10"
   ]
  },
  {
   "cell_type": "code",
   "execution_count": null,
   "metadata": {
    "collapsed": true
   },
   "outputs": [],
   "source": [
    "# 1. Prompt the user for two numbers.  Print out the bigger number.\n",
    "\n",
    "# Enter the code below this line.  Press shift+enter to see the result\n"
   ]
  },
  {
   "cell_type": "code",
   "execution_count": null,
   "metadata": {
    "collapsed": true
   },
   "outputs": [],
   "source": [
    "# 2. Prompt the user for three numbers.  Print out the smallest number.\n",
    "\n",
    "# Enter the code below this line.  Press shift+enter to see the result\n"
   ]
  },
  {
   "cell_type": "code",
   "execution_count": null,
   "metadata": {
    "collapsed": true
   },
   "outputs": [],
   "source": [
    "# 3. Prompt the user for a number.  Print out whether the number if less than, greater than, or equal to 10\n",
    "\n",
    "# Enter the code below this line.  Press shift+enter to see the result\n"
   ]
  },
  {
   "cell_type": "markdown",
   "metadata": {},
   "source": [
    "---\n",
    "### Answers"
   ]
  },
  {
   "cell_type": "code",
   "execution_count": null,
   "metadata": {
    "collapsed": true
   },
   "outputs": [],
   "source": [
    "# 1. Prompt the user for two numbers.  Print out the bigger number.\n",
    "value1 = int(input(\"Enter a number: \"))\n",
    "value2 = int(input(\"Enter a number: \"))\n",
    "\n",
    "if value1 > value2:\n",
    "    print(value1, 'is greater than', value2)\n",
    "else:\n",
    "    print(value2, 'is greater than', value1)"
   ]
  },
  {
   "cell_type": "code",
   "execution_count": null,
   "metadata": {
    "collapsed": true
   },
   "outputs": [],
   "source": [
    "# 2. Prompt the user for three numbers.  Print out the smallest number.\n",
    "value1 = int(input(\"Enter a number: \"))\n",
    "value2 = int(input(\"Enter a number: \"))\n",
    "value3 = int(input(\"Enter a number: \"))\n",
    "\n",
    "if value1 < value2 and value1 < value3:\n",
    "    print(value1, 'is the smallest')\n",
    "if value2 < value1 and value2 < value3:\n",
    "    print(value2, 'is the smallest')\n",
    "if value3 < value1 and value3 < value2:\n",
    "    print(value3, 'is the smallest')"
   ]
  },
  {
   "cell_type": "code",
   "execution_count": null,
   "metadata": {
    "collapsed": true
   },
   "outputs": [],
   "source": [
    "# Another way.  \n",
    "# Note: This is a special capability of Python.  Not all programming languages support this.\n",
    "if value1 < value2 < value3:\n",
    "    print(value1, 'is the smallest')\n",
    "if value2 < value1 < value3:\n",
    "    print(value2, 'is the smallest')\n",
    "if value3 < value2 < value1:\n",
    "    print(value3, 'is the smallest')"
   ]
  },
  {
   "cell_type": "code",
   "execution_count": null,
   "metadata": {
    "collapsed": true
   },
   "outputs": [],
   "source": [
    "# 3. Prompt the user for a number.  Print out whether the number is less than, greater than, or equal to 10\n",
    "value = int(input(\"Enter a number: \"))\n",
    "if value < 10:\n",
    "    print(value, 'is less than 10')\n",
    "elif value == 10:\n",
    "    print(value, 'equals 10')\n",
    "elif value > 10:\n",
    "    print(value, 'is greater than 10')"
   ]
  },
  {
   "cell_type": "markdown",
   "metadata": {},
   "source": [
    "## Project - Guess The Number\n",
    "\n",
    "### Phase 1\n",
    "* Calculate a random number in a range.  **Note: This code is provided for you.**\n",
    "* Prompt user to enter a number between 0 and 100\n",
    "* Validate that the number entered is between 0 and 100\n",
    "* Compare the random number with the number entered by the user and print whether they match\n",
    "\n",
    "### Phase 2\n",
    "* Tell the user if the number they entered is greater than, less than, or equal to the random number\n",
    "\n",
    "### Bonus\n",
    "* Keep track of the number of guesses to needed to guess the correct number\n",
    "* Allow the guessing to continue until it matches\n",
    "* Allow user to play multiple games and also quit\n",
    "\n",
    "**Note: The bonus program will require research into other Python features such as loops which have not been presented in this calss.**"
   ]
  },
  {
   "cell_type": "code",
   "execution_count": 13,
   "metadata": {
    "collapsed": false
   },
   "outputs": [
    {
     "name": "stdout",
     "output_type": "stream",
     "text": [
      "Enter a number between 0 and 100: sdfg\n",
      "Not a number\n"
     ]
    }
   ],
   "source": [
    "# Phase 1\n",
    "\n",
    "import random\n",
    "\n",
    "random_value = random.randint(0, 100)\n",
    "\n",
    "# Enter the code below this line.  Press shift+enter to see the result"
   ]
  },
  {
   "cell_type": "code",
   "execution_count": null,
   "metadata": {
    "collapsed": true
   },
   "outputs": [],
   "source": [
    "# Phase 2\n",
    "\n",
    "import random\n",
    "\n",
    "random_value = random.randint(0, 100)\n",
    "\n",
    "# Enter the code below this line.  Press shift+enter to see the result\n"
   ]
  },
  {
   "cell_type": "code",
   "execution_count": null,
   "metadata": {
    "collapsed": true
   },
   "outputs": [],
   "source": [
    "# Bonus\n",
    "\n",
    "import random\n",
    "\n",
    "random_value = random.randint(0, 100)\n",
    "\n",
    "# Enter the code below this line.  Press shift+enter to see the result\n"
   ]
  },
  {
   "cell_type": "markdown",
   "metadata": {},
   "source": [
    "## Solution"
   ]
  },
  {
   "cell_type": "code",
   "execution_count": null,
   "metadata": {
    "collapsed": true
   },
   "outputs": [],
   "source": [
    "# Phase 1\n",
    "\n",
    "import random\n",
    "\n",
    "random_value = random.randint(0, 100)\n",
    "\n",
    "guess = int(input(\"Guess a number between 0 and 100: \"))\n",
    "\n",
    "if 0 <= guess <= 100:\n",
    "    if guess == random_value:\n",
    "        print(\"You guessed the correct value\")\n",
    "    else:\n",
    "        print(\"You did not guess the correct value\")\n",
    "else:\n",
    "    print(\"Your number is not between 0 and 100\")"
   ]
  },
  {
   "cell_type": "code",
   "execution_count": null,
   "metadata": {
    "collapsed": true
   },
   "outputs": [],
   "source": [
    "# Phase 2\n",
    "\n",
    "import random\n",
    "\n",
    "random_value = random.randint(0, 100)\n",
    "\n",
    "guess = int(input(\"Guess a number between 0 and 100: \"))\n",
    "\n",
    "if 0 <= guess <= 100:\n",
    "    if guess == random_value:\n",
    "        print(\"You guessed the correct value\")\n",
    "    else:\n",
    "        if guess > random_value:\n",
    "            print(\"Your guess is too high\")\n",
    "        else:\n",
    "            if guess < random_value:\n",
    "                print(\"Your guess is too low\")\n",
    "else:\n",
    "    print(\"Your number is not between 0 and 100\")"
   ]
  },
  {
   "cell_type": "code",
   "execution_count": null,
   "metadata": {
    "collapsed": true
   },
   "outputs": [],
   "source": [
    "# Bonus\n",
    "\n",
    "import random\n",
    "\n",
    "\n",
    "banner = \"\"\"\n",
    "---------------------------------\n",
    "      GUESS THE NUMBER APP\n",
    "---------------------------------\n",
    "\"\"\"\n",
    "\n",
    "\n",
    "guesses = 0\n",
    "print(banner)\n",
    "random_value = random.randint(0, 100)\n",
    "guess = ''\n",
    "\n",
    "# A while loop allows the game to continue until the users quits or guesses correctly\n",
    "while isinstance(guess, int) or guess.lower() != 'q':\n",
    "\n",
    "    # Get the guess from the user\n",
    "    guess = input(\"Guess a number between 0 and 100 (press 'q' to quit): \")        # Note: continue jump back to the top of the while loop\n",
    "    \n",
    "    try:\n",
    "        # Convert the guess into a number\n",
    "        guess = int(guess)\n",
    "    except ValueError:\n",
    "        if guess == 'q':\n",
    "            print(\"Sorry to see you go.\")\n",
    "            break\n",
    "    \n",
    "    # Increment the number of guesses\n",
    "    guesses += 1\n",
    "    \n",
    "    # Check if the guess is within range\n",
    "    if guess < 0 or guess > 100:\n",
    "        print(\"The number must be between 0 and 100.  Please try again.\")\n",
    "        continue\n",
    "    \n",
    "    \n",
    "    # Check if the guess is less than the random value\n",
    "    if guess < random_value:\n",
    "        print(\"Sorry, {} is LOWER than the number\".format(guess))\n",
    "        \n",
    "    # Check if the guess is greater than the random value\n",
    "    # Note: elif is a shortcut that can eliminate nested if/else's\n",
    "    elif guess > random_value:\n",
    "        print(\"Sorry, {} is HIGHER than the number\".format(guess))\n",
    "    \n",
    "    # If the guess wasn't higher and wasn't lower then it must be equal\n",
    "    else:\n",
    "        print(\"YES!  You've got it.  The number was {}.  It took you {} guesses\".format(random_value, guesses))\n",
    "        ans = input(\"Do you want to play a another game? (y/n)\")\n",
    "        if ans.lower() == 'n':\n",
    "            print(\"Sorry to see you go.\")\n",
    "            break\n",
    "        else:\n",
    "            guesses = 0\n",
    "            print(banner)\n",
    "            random_value = random.randint(0, 100)            "
   ]
  },
  {
   "cell_type": "code",
   "execution_count": null,
   "metadata": {
    "collapsed": true
   },
   "outputs": [],
   "source": [
    "\n",
    "\n"
   ]
  }
 ],
 "metadata": {
  "anaconda-cloud": {},
  "kernelspec": {
   "display_name": "Python 3",
   "language": "python",
   "name": "python3"
  },
  "language_info": {
   "codemirror_mode": {
    "name": "ipython",
    "version": 3
   },
   "file_extension": ".py",
   "mimetype": "text/x-python",
   "name": "python",
   "nbconvert_exporter": "python",
   "pygments_lexer": "ipython3",
   "version": "3.6.0"
  }
 },
 "nbformat": 4,
 "nbformat_minor": 2
}
