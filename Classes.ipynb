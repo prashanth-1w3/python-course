{
 "cells": [
  {
   "cell_type": "markdown",
   "metadata": {},
   "source": [
    "# OOP in Python\n",
    "\n",
    "OOP stands for Object-Oriented Programming.  As it relates to this course, we will discuss OOP in the context of Python including the obvious keyword 'class' but also the overall organization of Python."
   ]
  },
  {
   "cell_type": "markdown",
   "metadata": {},
   "source": [
    "## Class\n",
    "\n",
    "The fundamental component of object-oriented programming is the class.  In Python a class is created using the keyword 'class'.  Below is an example of the simplest possible class in Python."
   ]
  },
  {
   "cell_type": "code",
   "execution_count": null,
   "metadata": {
    "collapsed": false
   },
   "outputs": [],
   "source": [
    "class MyClass:\n",
    "    pass\n",
    "\n",
    "# To instantiate the class use the class name and open/closed parenthesis\n",
    "\n",
    "MyClass()\n",
    "\n",
    "# To assign (or create a reference to an instance) use a variable and the \n",
    "# equal sign\n",
    "\n",
    "mc = MyClass()\n",
    "\n",
    "print(mc)"
   ]
  },
  {
   "cell_type": "code",
   "execution_count": null,
   "metadata": {
    "collapsed": false
   },
   "outputs": [],
   "source": [
    "# What is the type of or mc?\n",
    "print(type(mc))"
   ]
  },
  {
   "cell_type": "code",
   "execution_count": null,
   "metadata": {
    "collapsed": false
   },
   "outputs": [],
   "source": [
    "# What is the type of MyClass?\n",
    "print(type(MyClass))"
   ]
  },
  {
   "cell_type": "code",
   "execution_count": null,
   "metadata": {
    "collapsed": false
   },
   "outputs": [],
   "source": [
    "# What does MyClass contain\n",
    "dir(MyClass)"
   ]
  },
  {
   "cell_type": "markdown",
   "metadata": {},
   "source": [
    "## Construction\n",
    "\n",
    "An important part of creating classes in OOP languages is commonly referred to as construction.  In Python, construction has two distinct parts implemented by two special methods:\n",
    "\n",
    "* __new__\n",
    "* __init__\n",
    "\n",
    "The first special method, __new__, is where the object is actual created.  All Python classes inherit implicitly from a based class called object.  The __new__ function takes care of creating the underlying implementation.\n",
    "\n",
    "**Note: Prior to Python 3, it was necessary to explicitly include object in a classes inheritance.**\n",
    "\n",
    "It is possible to write your own __new__ function for a class, but it is extremely rare.  99.99% of the time, you will only define an __init__ funcion for a class.  However, Python does give you access and control over the lower level of instantiation through __new__.\n",
    "\n",
    "Also, note how there is no 'new' keyword.\n",
    "\n",
    "The second special method, __init__, is where you can initialize the attributes of a Python class.  Let's implement an __init__ method, add some attributes and initialize them."
   ]
  },
  {
   "cell_type": "code",
   "execution_count": null,
   "metadata": {
    "collapsed": false
   },
   "outputs": [],
   "source": [
    "class MyClass:\n",
    "    def __init__(self):\n",
    "        self.a = 10\n",
    "        self.b = 'hello'\n",
    "        self.c = ['a', 'b', 'c']\n",
    "        \n",
    "my = MyClass()\n",
    "\n",
    "print(my.a, my.b, my.c)\n",
    "\n",
    "my.a += 1\n",
    "my.b += ' world'\n",
    "my.c += 'd'\n",
    "\n",
    "print(my.a, my.b, my.c)"
   ]
  },
  {
   "cell_type": "markdown",
   "metadata": {},
   "source": [
    "**Note: For those wondering about the analog to construction, destruction, all object lifetimes in Python, including those created by instantiating a class, are handled by the garbage collector.  So, we don't have to worry about.  In the words of Forest Gump, \"That's good, one less thing.\"**"
   ]
  },
  {
   "cell_type": "markdown",
   "metadata": {},
   "source": [
    "## Self\n",
    "\n",
    "An important thing to notice above is the use of 'self' as a parameter to __init__ and as the reference for accessing the attributes a, b, c.  'self' is a reference to the current instance.  It is equivalent to 'this' in C++, C# and Java.  Smalltalk also uses 'self'.  Think of 'self' as a reference to the instance data that needs to be passed to the class functions so they operate on the correct data."
   ]
  },
  {
   "cell_type": "markdown",
   "metadata": {},
   "source": [
    "## Initialization\n",
    "\n",
    "Notice above, the values of the attributes, a, b, c, are initialized in __init__.  We'd like to be able to initialize the instance when we declare the variable.  Since the __init__ method is a function, it allows arguments to be passed and that is how we initialize the instance attributes."
   ]
  },
  {
   "cell_type": "code",
   "execution_count": null,
   "metadata": {
    "collapsed": false
   },
   "outputs": [],
   "source": [
    "class MyClass:\n",
    "    def __init__(self, a, b, c):\n",
    "        self.a = a\n",
    "        self.b = b\n",
    "        self.c = c\n",
    "        \n",
    "mc1 = MyClass(10, 'hello', ['a', 'b', 'c'])\n",
    "mc2 = MyClass(20, 'world', ['d', 'e', 'f'])\n",
    "\n",
    "print(mc1.a, mc1.b, mc1.c)\n",
    "print(mc2.a, mc2.b, mc2.c)\n",
    "\n",
    "print(mc1)\n",
    "print(mc2)"
   ]
  },
  {
   "cell_type": "markdown",
   "metadata": {},
   "source": [
    "**Note: __init__ is a function so it can accept all of the various type of arguments that any function can, e.g. positional, named, and keyword.**"
   ]
  },
  {
   "cell_type": "markdown",
   "metadata": {},
   "source": [
    "## Representation\n",
    "\n",
    "You'll notice above that when we printed the class instances, mc1 and mc2, we didn't get a particularly readable output.  Python provides two ways to display a class in a more readable manner:\n",
    "\n",
    "* __repr__\n",
    "* __str__\n",
    "\n",
    "According to the official Python documentation, __repr__ is a built-in function used to compute the \"official\" string reputation of an object, while __str__ is a built-in function that computes the \"informal\" string representations of an object.\n",
    "\n",
    "I agree that is a subtle distinction.  The intent of __repr__ is that is can be used to re-create the object by passing its results to the function eval().  Below is an example of the datetime object."
   ]
  },
  {
   "cell_type": "code",
   "execution_count": null,
   "metadata": {
    "collapsed": false
   },
   "outputs": [],
   "source": [
    "import datetime\n",
    "\n",
    "now = datetime.datetime.now()\n",
    "\n",
    "# Prints the actual value\n",
    "print(str(now))\n",
    "# Prints a string that can be used to recreate the object\n",
    "print(repr(now))\n",
    "\n",
    "# Passing the output of repr into eval and assigning the result to now2 \n",
    "# creates a new object with the same value as now\n",
    "\n",
    "now2 = eval(repr(now))\n",
    "print(str(now2))"
   ]
  },
  {
   "cell_type": "markdown",
   "metadata": {},
   "source": [
    "So, what's the 'take away':\n",
    "\n",
    "Implement __str__ to make ojects readable and generate output for end user\n",
    "Implement __repr__ to generate code to reproduce the object and to generate output for developers\n",
    "\n",
    "One other thing to note is that is you provide a definition for __repr__ but do not provide __str__ Python will call __repr__ when str is invoked on the instance; however, this opposite is not true.  If no __repr__ is defined then the default representation is used.\n",
    "\n",
    "Let's add __str__ and __repr__ functions to our class"
   ]
  },
  {
   "cell_type": "code",
   "execution_count": null,
   "metadata": {
    "collapsed": false
   },
   "outputs": [],
   "source": [
    "class MyClass:\n",
    "    def __repr__(self):\n",
    "        return 'MyClass({}, \"{}\", {})'.format(self.a, self.b, self.c)\n",
    "    \n",
    "    def __str__(self):\n",
    "        return 'MyClass(a={}, b={}, c={})'.format(self.a, \n",
    "                                                  self.b, \n",
    "                                                  ';'.join(map(str, \n",
    "                                                               self.c)))\n",
    "    \n",
    "    def __init__(self, a, b, c):\n",
    "        self.a = a\n",
    "        self.b = b\n",
    "        self.c = c\n",
    "        \n",
    "mc1 = MyClass(10, 'hello', [1, 2, 3, 4])\n",
    "\n",
    "print(repr(mc1))\n",
    "print(str(mc1))\n",
    "\n",
    "mc2 = eval(repr(mc1))\n",
    "print(mc2)\n"
   ]
  },
  {
   "cell_type": "markdown",
   "metadata": {},
   "source": [
    "## Methods\n",
    "\n",
    "While a class can be used to hold only data, most classes contains both data and functionality.  There are three types of methods that can be declared as part of a class:\n",
    "\n",
    "* Instance\n",
    "* Class\n",
    "* Static"
   ]
  },
  {
   "cell_type": "markdown",
   "metadata": {},
   "source": [
    "### Instance\n",
    "\n",
    "We have already seen some instance methods, __str__, __repr__, and __init__.  These were 'special' methods provided by Python to extend/enhance the class.  But, we can also add our own methods.\n",
    "\n",
    "**Note: Because Python uses the convention \\_\\_xxx\\_\\_ for special methods, you should avoid using this convention for your own methods to avoid any language conflicts**\n",
    "\n",
    "Instance methods are associated with and can only be called by an instance of the class."
   ]
  },
  {
   "cell_type": "code",
   "execution_count": null,
   "metadata": {
    "collapsed": false
   },
   "outputs": [],
   "source": [
    "class MyClass:\n",
    "    def __repr__(self):\n",
    "        return 'MyClass({}, \"{}\", {})'.format(self.a, self.b, self.c)\n",
    "    \n",
    "    def __str__(self):\n",
    "        return 'MyClass(a={}, b={}, c={})'.format(self.a, \n",
    "                                                  self.b, \n",
    "                                                  ';'.join(map(str, \n",
    "                                                               self.c)))\n",
    "    \n",
    "    def __init__(self, a, b, c):\n",
    "        self.a = a\n",
    "        self.b = b\n",
    "        self.c = c\n",
    "        \n",
    "    def format(self, format_str='{}, {}, {}'):\n",
    "        return format_str.format(self.a, \n",
    "                                 self.b, \n",
    "                                 ','.join(map(str, iter(self.c))))\n",
    "    \n",
    "mc1 = MyClass(10, 'hello', [1, 2, 3, 4])\n",
    "\n",
    "print(mc1.format())\n",
    "\n",
    "print(mc1.format('{:05d}<->{}<->{}'))"
   ]
  },
  {
   "cell_type": "markdown",
   "metadata": {},
   "source": [
    "### Class\n",
    "\n",
    "Class methods are methods associated with the class.  They are typically meant to implement functionality that applies to all instances of the class.  Class methods can be called using the class name and can be called from class instances.  To define a class method a feature of Python called a decorator is used -- the @classmethod decorator.  Any method 'decorated' with the @classmethod decorator will become a class method."
   ]
  },
  {
   "cell_type": "code",
   "execution_count": null,
   "metadata": {
    "collapsed": false
   },
   "outputs": [],
   "source": [
    "class MyClass:\n",
    "    # Note: This is a class attribute that is accessible using the class name.\n",
    "    count = 0\n",
    "    \n",
    "    @classmethod\n",
    "    def instance_increment(cls):\n",
    "        cls.count += 1\n",
    "    \n",
    "    def __repr__(self):\n",
    "        return 'MyClass({}, \"{}\", {})'.format(self.a, self.b, self.c)\n",
    "    \n",
    "    def __str__(self):\n",
    "        return 'MyClass(a={}, b={}, c={})'.format(self.a, \n",
    "                                                  self.b, \n",
    "                                                  ';'.join(map(str, \n",
    "                                                               self.c)))\n",
    "    \n",
    "    def __init__(self, a, b, c):\n",
    "        self.a = a\n",
    "        self.b = b\n",
    "        self.c = c\n",
    "        \n",
    "        MyClass.instance_increment()\n",
    "        \n",
    "    def format(self, format_str='{}, {}, {}'):\n",
    "        return format_str.format(self.a, \n",
    "                                 self.b, \n",
    "                                 ','.join(map(str, \n",
    "                                              iter(self.c))))\n",
    "    \n",
    "    \n",
    "for i in range(10):\n",
    "    mc = MyClass(1, 'a', [1,])\n",
    "    \n",
    "print(MyClass.count)"
   ]
  },
  {
   "cell_type": "markdown",
   "metadata": {},
   "source": [
    "### Static\n",
    "\n",
    "Static methods are methods that are bound to a class but that do not use/access a class instance.  Static methods are essentially functions that are scoped by the class name.  They can be accessed using the class name or instance variable."
   ]
  },
  {
   "cell_type": "code",
   "execution_count": null,
   "metadata": {
    "collapsed": false
   },
   "outputs": [],
   "source": [
    "class MyClass:\n",
    "    @staticmethod\n",
    "    def do_anything(x, y, z):\n",
    "        print(x*y*z)\n",
    "    \n",
    "    # Note: This is a class attribute that is accessible using the class name.\n",
    "    count = 0\n",
    "    \n",
    "    @classmethod\n",
    "    def instance_increment(cls):\n",
    "        cls.count += 1\n",
    "    \n",
    "    def __repr__(self):\n",
    "        return 'MyClass({}, \"{}\", {})'.format(self.a, self.b, self.c)\n",
    "    \n",
    "    def __str__(self):\n",
    "        return 'MyClass(a={}, b={}, c={})'.format(self.a, self.b, ';'.join(map(str, self.c)))\n",
    "    \n",
    "    def __init__(self, a, b, c):\n",
    "        self.a = a\n",
    "        self.b = b\n",
    "        self.c = c\n",
    "        \n",
    "        MyClass.instance_increment()\n",
    "        \n",
    "    def format(self, format_str='{}, {}, {}'):\n",
    "        return format_str.format(self.a, self.b, ','.join(map(str, iter(self.c))))\n",
    "    \n",
    "    \n",
    "mc = MyClass(10, 'hello', [1, 2, 3, 4])\n",
    "\n",
    "mc.do_anything(1, 2, 3)\n",
    "\n",
    "MyClass.do_anything(4, 5, 6)"
   ]
  },
  {
   "cell_type": "markdown",
   "metadata": {},
   "source": [
    "### Overloading\n",
    "\n",
    "Method overloading is the ability to use the same method name more than once but with different arguments.  Python does not support method overloading.  If the same method is defined more than once, the last definition will be used."
   ]
  },
  {
   "cell_type": "code",
   "execution_count": null,
   "metadata": {
    "collapsed": false
   },
   "outputs": [],
   "source": [
    "class MyClass:\n",
    "    def overload(self, a):\n",
    "        print(a)\n",
    "    def overload(self, a, b):\n",
    "        print(a, b)\n",
    "        \n",
    "mc = MyClass()\n",
    "\n",
    "mc.overload(1)"
   ]
  },
  {
   "cell_type": "markdown",
   "metadata": {},
   "source": [
    "It is possible using the positional \\* operator and/or keyword \\*\\* arguments to acheive similar results as overloading."
   ]
  },
  {
   "cell_type": "code",
   "execution_count": null,
   "metadata": {
    "collapsed": false
   },
   "outputs": [],
   "source": [
    "class MyClass:\n",
    "    def overload1(self, *args):\n",
    "        print(*args)\n",
    "        \n",
    "    def overload2(self, **kwargs):\n",
    "        print(kwargs.items())\n",
    "        \n",
    "mc = MyClass()\n",
    "\n",
    "mc.overload1(1)\n",
    "mc.overload1(1, 2)\n",
    "\n",
    "mc.overload2(a=1)\n",
    "mc.overload2(a=1, b=2)"
   ]
  },
  {
   "cell_type": "markdown",
   "metadata": {},
   "source": [
    "## Accessibility\n",
    "\n",
    "Python does not support access modifiers/specifiers for data or methods.  This means that all data and methods accessible to all.  While there is no strict enforcement of access, there are conventions for access.  The general conventions for class are:\n",
    "\n",
    "* Public data and methods are lowercase and '_' separated\n",
    "* Private data and methods have an '_' prepended\n",
    "* Protected data and methods have a double '_' prepended\n",
    "\n",
    "**Note: data and methods with double '_' under go name mangling where an '_' and class name is prepended to the name.\n",
    "\n",
    "**Note: the above conventions apply to both class-level and instance-level variables and data"
   ]
  },
  {
   "cell_type": "code",
   "execution_count": 51,
   "metadata": {
    "collapsed": false
   },
   "outputs": [
    {
     "name": "stdout",
     "output_type": "stream",
     "text": [
      "20 10\n",
      "10\n",
      "10\n",
      "20\n",
      "30\n",
      "blah\n",
      "_blah\n",
      "__blah\n",
      "grok\n",
      "_grok\n",
      "__grok\n"
     ]
    }
   ],
   "source": [
    "class MyClass:\n",
    "    A = 10\n",
    "    _A = 20\n",
    "    __A = 30\n",
    "    \n",
    "    @classmethod\n",
    "    def blah(cls):\n",
    "        print(cls.blah.__name__)\n",
    "    @classmethod\n",
    "    def _blah(cls):\n",
    "        print(cls._blah.__name__)\n",
    "    @classmethod\n",
    "    def __blah(cls):\n",
    "        print(cls._MyClass__blah.__name__)\n",
    "        \n",
    "    def __init__(self):\n",
    "        self.a = 100\n",
    "        self._a = 200\n",
    "        self.__a = 300\n",
    "        \n",
    "        \n",
    "    def grok(self):\n",
    "        print(self.grok.__name__)\n",
    "    def _grok(self):\n",
    "        print(self._grok.__name__)\n",
    "    def __grok(self):\n",
    "        print(self.__grok.__name__)\n",
    "        \n",
    "mc = MyClass()\n",
    "\n",
    "mc.A = 20\n",
    "print(mc.A, MyClass.A)\n",
    "del mc.A\n",
    "print(mc.A)\n",
    "\n",
    "print(MyClass.A)\n",
    "print(MyClass._A)\n",
    "#print(MyClass.__A)\n",
    "print(MyClass._MyClass__A)\n",
    "MyClass.blah()\n",
    "MyClass._blah()\n",
    "MyClass._MyClass__blah()\n",
    "\n",
    "mc.grok()\n",
    "mc._grok()\n",
    "mc._MyClass__grok()    "
   ]
  },
  {
   "cell_type": "markdown",
   "metadata": {
    "collapsed": true
   },
   "source": [
    "### Shadowing\n",
    "\n",
    "Talk about changing the value of a class attribute from a instance and how it then creates a shadow of the class attribute and will forever diverge (except if it is deleted)."
   ]
  },
  {
   "cell_type": "code",
   "execution_count": null,
   "metadata": {
    "collapsed": true
   },
   "outputs": [],
   "source": [
    "class MyClass:\n",
    "    A = 10\n",
    "    \n",
    "print(\"Class variable: \", MyClass.A)\n",
    "\n",
    "mc = MyClass()\n",
    "\n",
    "mc.A\n",
    "mc.A = 100\n",
    "\n",
    "print(\"Shadow variable: \", mc.A, \" Class variable: \", MyClass.A)\n",
    "\n",
    "MyClass.A = 1000\n",
    "\n",
    "print(\"Shadow variable: \", mc.A, \" Class variable: \", MyClass.A)\n",
    "\n",
    "del mc.A\n",
    "\n",
    "print(\"Restored Class variable\", mc.A, \" Class variable: \", MyClass.A)"
   ]
  },
  {
   "cell_type": "markdown",
   "metadata": {},
   "source": [
    "## Dynamic\n",
    "\n",
    "Python is a dynamic language so it shouldn't be surprising that classes are also dynamic.  So, what does that mean?  Well, in typed languages it is necessary to define all of the detail of the type before it can be used -- including classes because they are a type.  Dynamic languages like Python allow types to change over time.\n",
    "\n",
    "Like nearly all types in Python, classes are backed by a dictionary.  The attribute __dict__ holds the attributes of a class."
   ]
  },
  {
   "cell_type": "code",
   "execution_count": 53,
   "metadata": {
    "collapsed": false
   },
   "outputs": [
    {
     "name": "stdout",
     "output_type": "stream",
     "text": [
      "30\n",
      "{'a': 10, 'b': 20}\n",
      "{'a': 10, 'b': 20, 'c': 30}\n"
     ]
    }
   ],
   "source": [
    "class MyClass:\n",
    "    def __init__(self):\n",
    "        self.a = 10\n",
    "        self.b = 20\n",
    "    def add(self):\n",
    "        return self.a + self.b\n",
    "    \n",
    "mc = MyClass()\n",
    "print(mc.add())\n",
    "\n",
    "print(mc.__dict__)\n",
    "\n",
    "mc.c = 30\n",
    "\n",
    "print(mc.__dict__)\n",
    "\n",
    "\n",
    "# myclass.py\n",
    "#  define MyClass\n",
    "\n",
    "# otherfile.py\n",
    "#  import myclass\n",
    "#  mc = myclass.MyClass()\n",
    "\n",
    "#  import myclass.MyClass\n",
    "#  mc = MyClass()\n",
    "\n",
    "#  from myclass import MyClass\n",
    "#  mc = MyClass()"
   ]
  },
  {
   "cell_type": "markdown",
   "metadata": {},
   "source": [
    "**Note: Many ORM modules use the ability to dynamically create classes and attributes that match the data being received from a database or from a web page.**\n",
    "\n"
   ]
  },
  {
   "cell_type": "markdown",
   "metadata": {},
   "source": [
    "## Inheritance\n",
    "\n",
    "Python supports class inheritance including multiple inheritance.  In the class definition, after the class name, a parameter list of base classes can be passed:"
   ]
  },
  {
   "cell_type": "code",
   "execution_count": 54,
   "metadata": {
    "collapsed": false
   },
   "outputs": [
    {
     "name": "stdout",
     "output_type": "stream",
     "text": [
      "10\n"
     ]
    }
   ],
   "source": [
    "class BaseClass:\n",
    "    A = 10\n",
    "    \n",
    "class MyClass(BaseClass):\n",
    "    pass\n",
    "\n",
    "mc = MyClass()\n",
    "print(mc.A)"
   ]
  },
  {
   "cell_type": "markdown",
   "metadata": {},
   "source": [
    "### Overriding\n",
    "\n",
    "Overriding is the ability to define the same method is a child class as has been defined in a base class.  There are two reasons why overriding is used:\n",
    "\n",
    "* To replace the default behavior of the base class without changing the class semantics\n",
    "* To extend the functionality in the base class either by calling the base class first and modifying the results or changing the inputs to the base class method to change the results.\n",
    "\n"
   ]
  },
  {
   "cell_type": "markdown",
   "metadata": {},
   "source": [
    "#### Replacing"
   ]
  },
  {
   "cell_type": "code",
   "execution_count": 61,
   "metadata": {
    "collapsed": false
   },
   "outputs": [
    {
     "name": "stdout",
     "output_type": "stream",
     "text": [
      "doing myclass method\n"
     ]
    }
   ],
   "source": [
    "class BaseClass:\n",
    "    def method(self):\n",
    "        print(\"doing base method\")\n",
    "        \n",
    "class MyClass(BaseClass):\n",
    "    def method(self):\n",
    "        print(\"doing myclass method\")\n",
    "        \n",
    "mc = MyClass()\n",
    "\n",
    "mc.method()"
   ]
  },
  {
   "cell_type": "markdown",
   "metadata": {
    "collapsed": true
   },
   "source": [
    "#### Extending"
   ]
  },
  {
   "cell_type": "code",
   "execution_count": 62,
   "metadata": {
    "collapsed": false
   },
   "outputs": [
    {
     "name": "stdout",
     "output_type": "stream",
     "text": [
      "doing base method1\n",
      "doing myclass method1\n",
      "doing myclass method2\n",
      "doing base method2\n"
     ]
    }
   ],
   "source": [
    "class BaseClass:\n",
    "    def method1(self):\n",
    "        print(\"doing base method1\")\n",
    "        \n",
    "    def method2(self):\n",
    "        print(\"doing base method2\")\n",
    "        \n",
    "        \n",
    "class MyClass(BaseClass):\n",
    "    def method1(self):\n",
    "        super().method1()\n",
    "        print(\"doing myclass method1\")\n",
    "        \n",
    "    def method2(self):\n",
    "        print(\"doing myclass method2\")\n",
    "        super().method2()\n",
    "        \n",
    "mc = MyClass()\n",
    "\n",
    "mc.method1()\n",
    "mc.method2()"
   ]
  },
  {
   "cell_type": "markdown",
   "metadata": {},
   "source": [
    "## Accessors\n",
    "\n",
    "In Python, one can access the instance attributes directly using 'dot' notation.  However, sometimes attributes are not simple variables and they must be derived, e.g., a calulcation or query on a database.  Python provides a several methods for creating attribute accessors.\n",
    "\n",
    "The most ovbious accessor is a method.  It is as simple as defining a method (or two) on the class, known as getter and setter methods.  Typically, such methods include the words 'get' and 'set'."
   ]
  },
  {
   "cell_type": "code",
   "execution_count": 63,
   "metadata": {
    "collapsed": false
   },
   "outputs": [
    {
     "name": "stdout",
     "output_type": "stream",
     "text": [
      "1\n",
      "2\n",
      "2\n",
      "4\n"
     ]
    }
   ],
   "source": [
    "class MyClass:\n",
    "    def __init__(self, a, b):\n",
    "        self._a = a\n",
    "        self._b = b\n",
    "        \n",
    "    def set_a(self, value):\n",
    "        self._a = value\n",
    "    def get_a(self):\n",
    "        return self._a\n",
    "    def set_b(self, value):\n",
    "        self._b = value\n",
    "    def get_b(self):\n",
    "        return self._b\n",
    "    \n",
    "mc = MyClass(1, 2)\n",
    "\n",
    "print(mc.get_a())\n",
    "print(mc.get_b())\n",
    "\n",
    "mc.set_a(2)\n",
    "mc.set_b(4)\n",
    "\n",
    "print(mc.get_a())\n",
    "print(mc.get_b())"
   ]
  },
  {
   "cell_type": "markdown",
   "metadata": {},
   "source": [
    "While there is nothing particularly wrong with setter/getter methods, they expose a particular implementation choice.  OOP purists would insist that the client should not have to know that an attribute is implemented as data vs a function.  That's not an invalid point, by the way.  To that point, Python has two main primary ways to define attributes or properties on a class:\n",
    "\n",
    "* property()\n",
    "* @property"
   ]
  },
  {
   "cell_type": "markdown",
   "metadata": {},
   "source": [
    "### Property()\n",
    "\n",
    "The property() function is a builtin function that accepts four arguments:\n",
    "\n",
    "* fget - a function for getting an attribute value\n",
    "* fset - a function for setting an attribute value\n",
    "* fdel - a function for deleting an attribute value\n",
    "* doc - creates a docstring for the attribute\n",
    "\n",
    "The result provides a way to hide the implementation of the property x.  Access is as if it were an data attribute, but there is a transparent intervening function."
   ]
  },
  {
   "cell_type": "code",
   "execution_count": 64,
   "metadata": {
    "collapsed": false
   },
   "outputs": [
    {
     "name": "stdout",
     "output_type": "stream",
     "text": [
      "this is setx\n",
      "this is getx\n",
      "10\n",
      "this is delx\n",
      "this is getx\n"
     ]
    },
    {
     "ename": "AttributeError",
     "evalue": "'MyClass' object has no attribute '_x'",
     "output_type": "error",
     "traceback": [
      "\u001b[0;31m---------------------------------------------------------------------------\u001b[0m",
      "\u001b[0;31mAttributeError\u001b[0m                            Traceback (most recent call last)",
      "\u001b[0;32m<ipython-input-64-b40704f1c466>\u001b[0m in \u001b[0;36m<module>\u001b[0;34m()\u001b[0m\n\u001b[1;32m     22\u001b[0m \u001b[0mprint\u001b[0m\u001b[1;33m(\u001b[0m\u001b[0mmc\u001b[0m\u001b[1;33m.\u001b[0m\u001b[0mx\u001b[0m\u001b[1;33m)\u001b[0m\u001b[1;33m\u001b[0m\u001b[0m\n\u001b[1;32m     23\u001b[0m \u001b[1;32mdel\u001b[0m \u001b[0mmc\u001b[0m\u001b[1;33m.\u001b[0m\u001b[0mx\u001b[0m\u001b[1;33m\u001b[0m\u001b[0m\n\u001b[0;32m---> 24\u001b[0;31m \u001b[0mprint\u001b[0m\u001b[1;33m(\u001b[0m\u001b[0mmc\u001b[0m\u001b[1;33m.\u001b[0m\u001b[0mx\u001b[0m\u001b[1;33m)\u001b[0m\u001b[1;33m\u001b[0m\u001b[0m\n\u001b[0m",
      "\u001b[0;32m<ipython-input-64-b40704f1c466>\u001b[0m in \u001b[0;36mgetx\u001b[0;34m(self)\u001b[0m\n\u001b[1;32m      5\u001b[0m     \u001b[1;32mdef\u001b[0m \u001b[0mgetx\u001b[0m\u001b[1;33m(\u001b[0m\u001b[0mself\u001b[0m\u001b[1;33m)\u001b[0m\u001b[1;33m:\u001b[0m\u001b[1;33m\u001b[0m\u001b[0m\n\u001b[1;32m      6\u001b[0m         \u001b[0mprint\u001b[0m\u001b[1;33m(\u001b[0m\u001b[1;34m\"this is getx\"\u001b[0m\u001b[1;33m)\u001b[0m\u001b[1;33m\u001b[0m\u001b[0m\n\u001b[0;32m----> 7\u001b[0;31m         \u001b[1;32mreturn\u001b[0m \u001b[0mself\u001b[0m\u001b[1;33m.\u001b[0m\u001b[0m_x\u001b[0m\u001b[1;33m\u001b[0m\u001b[0m\n\u001b[0m\u001b[1;32m      8\u001b[0m \u001b[1;33m\u001b[0m\u001b[0m\n\u001b[1;32m      9\u001b[0m     \u001b[1;32mdef\u001b[0m \u001b[0msetx\u001b[0m\u001b[1;33m(\u001b[0m\u001b[0mself\u001b[0m\u001b[1;33m,\u001b[0m \u001b[0mvalue\u001b[0m\u001b[1;33m)\u001b[0m\u001b[1;33m:\u001b[0m\u001b[1;33m\u001b[0m\u001b[0m\n",
      "\u001b[0;31mAttributeError\u001b[0m: 'MyClass' object has no attribute '_x'"
     ]
    }
   ],
   "source": [
    "class MyClass:\n",
    "    def __init__(self):\n",
    "        self._x = None\n",
    "\n",
    "    def getx(self):\n",
    "        print(\"this is getx\")\n",
    "        return self._x\n",
    "\n",
    "    def setx(self, value):\n",
    "        print(\"this is setx\")\n",
    "        self._x = value\n",
    "\n",
    "    def delx(self):\n",
    "        print(\"this is delx\")\n",
    "        del self._x\n",
    "\n",
    "    x = property(getx, setx, delx, \"I'm the 'x' property.\")\n",
    "    \n",
    "mc = MyClass()\n",
    "\n",
    "mc.x = 10\n",
    "print(mc.x)\n",
    "del mc.x\n",
    "print(mc.x)"
   ]
  },
  {
   "cell_type": "markdown",
   "metadata": {},
   "source": [
    "### @property\n",
    "\n",
    "The other way to create properties on a class is to use the property decorator and the corresponding setter/deleter decorators."
   ]
  },
  {
   "cell_type": "code",
   "execution_count": 65,
   "metadata": {
    "collapsed": false
   },
   "outputs": [
    {
     "name": "stdout",
     "output_type": "stream",
     "text": [
      "this is @x.setter\n",
      "this is @property x\n",
      "10\n",
      "this is @x.deleter\n",
      "this is @property x\n"
     ]
    },
    {
     "ename": "AttributeError",
     "evalue": "'MyClass' object has no attribute '_x'",
     "output_type": "error",
     "traceback": [
      "\u001b[0;31m---------------------------------------------------------------------------\u001b[0m",
      "\u001b[0;31mAttributeError\u001b[0m                            Traceback (most recent call last)",
      "\u001b[0;32m<ipython-input-65-9560804b3b60>\u001b[0m in \u001b[0;36m<module>\u001b[0;34m()\u001b[0m\n\u001b[1;32m     24\u001b[0m \u001b[0mprint\u001b[0m\u001b[1;33m(\u001b[0m\u001b[0mmc\u001b[0m\u001b[1;33m.\u001b[0m\u001b[0mx\u001b[0m\u001b[1;33m)\u001b[0m\u001b[1;33m\u001b[0m\u001b[0m\n\u001b[1;32m     25\u001b[0m \u001b[1;32mdel\u001b[0m \u001b[0mmc\u001b[0m\u001b[1;33m.\u001b[0m\u001b[0mx\u001b[0m\u001b[1;33m\u001b[0m\u001b[0m\n\u001b[0;32m---> 26\u001b[0;31m \u001b[0mprint\u001b[0m\u001b[1;33m(\u001b[0m\u001b[0mmc\u001b[0m\u001b[1;33m.\u001b[0m\u001b[0mx\u001b[0m\u001b[1;33m)\u001b[0m\u001b[1;33m\u001b[0m\u001b[0m\n\u001b[0m",
      "\u001b[0;32m<ipython-input-65-9560804b3b60>\u001b[0m in \u001b[0;36mx\u001b[0;34m(self)\u001b[0m\n\u001b[1;32m      7\u001b[0m         \u001b[1;34m\"\"\"I'm the 'x' property.\"\"\"\u001b[0m\u001b[1;33m\u001b[0m\u001b[0m\n\u001b[1;32m      8\u001b[0m         \u001b[0mprint\u001b[0m\u001b[1;33m(\u001b[0m\u001b[1;34m'this is @property x'\u001b[0m\u001b[1;33m)\u001b[0m\u001b[1;33m\u001b[0m\u001b[0m\n\u001b[0;32m----> 9\u001b[0;31m         \u001b[1;32mreturn\u001b[0m \u001b[0mself\u001b[0m\u001b[1;33m.\u001b[0m\u001b[0m_x\u001b[0m\u001b[1;33m\u001b[0m\u001b[0m\n\u001b[0m\u001b[1;32m     10\u001b[0m \u001b[1;33m\u001b[0m\u001b[0m\n\u001b[1;32m     11\u001b[0m     \u001b[1;33m@\u001b[0m\u001b[0mx\u001b[0m\u001b[1;33m.\u001b[0m\u001b[0msetter\u001b[0m\u001b[1;33m\u001b[0m\u001b[0m\n",
      "\u001b[0;31mAttributeError\u001b[0m: 'MyClass' object has no attribute '_x'"
     ]
    }
   ],
   "source": [
    "class MyClass:\n",
    "    def __init__(self):\n",
    "        self._x = None\n",
    "\n",
    "    @property\n",
    "    def x(self):\n",
    "        \"\"\"I'm the 'x' property.\"\"\"\n",
    "        print('this is @property x')\n",
    "        return self._x\n",
    "\n",
    "    @x.setter\n",
    "    def x(self, value):\n",
    "        print('this is @x.setter')\n",
    "        self._x = value\n",
    "\n",
    "    @x.deleter\n",
    "    def x(self):\n",
    "        print('this is @x.deleter')\n",
    "        del self._x\n",
    "        \n",
    "mc = MyClass()\n",
    "\n",
    "mc.x = 10\n",
    "print(mc.x)\n",
    "del mc.x\n",
    "print(mc.x)"
   ]
  },
  {
   "cell_type": "markdown",
   "metadata": {
    "collapsed": true
   },
   "source": [
    "## Inheritance\n",
    "\n",
    "As an object-oriented language, Python supports inheritance.  Python classes can inherit data (attributes) and behavior (methods) from the parent or base class.  The syntax for inheriting is:"
   ]
  },
  {
   "cell_type": "code",
   "execution_count": null,
   "metadata": {
    "collapsed": true
   },
   "outputs": [],
   "source": [
    "class BaseClass:\n",
    "    pass\n",
    "\n",
    "class DerivedClass(BaseClass):\n",
    "    pass"
   ]
  },
  {
   "cell_type": "markdown",
   "metadata": {},
   "source": [
    "Below is a basic class from which we will build an class hierarchy using inheritance."
   ]
  },
  {
   "cell_type": "code",
   "execution_count": 34,
   "metadata": {
    "collapsed": false
   },
   "outputs": [
    {
     "name": "stdout",
     "output_type": "stream",
     "text": [
      "Tim Slator\n",
      "Tim Slator\n"
     ]
    }
   ],
   "source": [
    "class Person:\n",
    "    def __str__(self):\n",
    "        return self.Name()\n",
    "    \n",
    "    def __init__(self, first_name, last_name):\n",
    "        self._first_name = first_name\n",
    "        self._last_name = last_name\n",
    "        \n",
    "    def Name(self):\n",
    "        return self._first_name + ' ' + self._last_name\n",
    "    \n",
    "    def Income(self):\n",
    "        return 0.0\n",
    "    \n",
    "p = Person('Tim', 'Slator')\n",
    "\n",
    "print(p)\n",
    "print(p.Name())"
   ]
  },
  {
   "cell_type": "markdown",
   "metadata": {},
   "source": [
    "### Is-A Relationship\n",
    "\n",
    "It is important to understand what inheritance means.  Inheritance implies a relationship between the derived (child) class and the base (parent) class.  That relationship is described as 'is-a', as in, <derived> is a <base>.\n",
    "\n",
    "For example, above we defined a Person class.  Now, any class that derives from Person must be describable using the 'is-a' relationship.  How about an employee? customer? a boss (its debatable whether your boss is a person)? Friend? Student? etc.\n",
    "\n",
    "**Note: No object-oriented language enforces these abstractions so it is up to you to do so when you program**"
   ]
  },
  {
   "cell_type": "markdown",
   "metadata": {},
   "source": [
    "Let's create an Employee class that inherits from Person and adds an attribute of 'job'."
   ]
  },
  {
   "cell_type": "code",
   "execution_count": 66,
   "metadata": {
    "collapsed": false
   },
   "outputs": [
    {
     "name": "stdout",
     "output_type": "stream",
     "text": [
      "Tim Slator, chief bottle washer (CBW)\n",
      "Slator, Tim : chief bottle washer (CBW)\n",
      "chief bottle washer (CBW)\n",
      "Tim Slator\n"
     ]
    },
    {
     "ename": "AttributeError",
     "evalue": "'Person' object has no attribute '_job'",
     "output_type": "error",
     "traceback": [
      "\u001b[0;31m---------------------------------------------------------------------------\u001b[0m",
      "\u001b[0;31mAttributeError\u001b[0m                            Traceback (most recent call last)",
      "\u001b[0;32m<ipython-input-66-e5da88b3fe3a>\u001b[0m in \u001b[0;36m<module>\u001b[0;34m()\u001b[0m\n\u001b[1;32m     56\u001b[0m \u001b[1;31m# Just to demonstrate that Person does not have a job attribute\u001b[0m\u001b[1;33m\u001b[0m\u001b[1;33m\u001b[0m\u001b[0m\n\u001b[1;32m     57\u001b[0m \u001b[0mp\u001b[0m \u001b[1;33m=\u001b[0m \u001b[0mPerson\u001b[0m\u001b[1;33m(\u001b[0m\u001b[1;34m'Tim'\u001b[0m\u001b[1;33m,\u001b[0m \u001b[1;34m'Slator'\u001b[0m\u001b[1;33m)\u001b[0m\u001b[1;33m\u001b[0m\u001b[0m\n\u001b[0;32m---> 58\u001b[0;31m \u001b[0mprint\u001b[0m\u001b[1;33m(\u001b[0m\u001b[0mp\u001b[0m\u001b[1;33m.\u001b[0m\u001b[0m_job\u001b[0m\u001b[1;33m)\u001b[0m   \u001b[1;31m# AttributeError generated\u001b[0m\u001b[1;33m\u001b[0m\u001b[0m\n\u001b[0m",
      "\u001b[0;31mAttributeError\u001b[0m: 'Person' object has no attribute '_job'"
     ]
    }
   ],
   "source": [
    "class Employee(Person):\n",
    "    def __str__(self):\n",
    "        '''\n",
    "        Explanation:\n",
    "        __str__ is implemented in Person.  It prints the attributes of Person: first_name and last_name\n",
    "        We want to print all attributes: first_name, last_name, and job\n",
    "        There are a couple of ways to get first_name and last_name:\n",
    "        1. invoke the __str__ method in the super class\n",
    "        2. invoke the Name method in the super class\n",
    "        3. reimplement __str__ (copy-paste coding is not recommended)\n",
    "        Note: Here we are extending (or building on) the existing functionality which is the whole point of\n",
    "        Object-Oriented programming.\n",
    "        '''\n",
    "        return super().__str__() + ', ' + str(self._job)\n",
    "        #Alternate approach:\n",
    "        #return super().Name() + ', ' + str(self._job)\n",
    "    \n",
    "    def __init__(self, first_name, last_name, job):\n",
    "        '''\n",
    "        Explanation:\n",
    "        __init__ is implemented in Person.  It initializes the attributes of Person: first_name and last_name\n",
    "        We want to initialize the Person class with first_name and last_name then initialize the Employee\n",
    "        attribute job.\n",
    "        Again, there are a couple of ways to do this:\n",
    "        1. invoke __init__ on the super class\n",
    "        2. set first_name and last_name directory\n",
    "        '''\n",
    "        super().__init__(first_name, last_name)\n",
    "        #Alternate:\n",
    "        #self._first_name = first_name\n",
    "        #self._last_name = last_name\n",
    "        #Note: Not recommended to reimplement what is already in the base class.  One advantage\n",
    "        #of object-oriented programming is to leverage existing code.  By extension, that also\n",
    "        #allows leveraging existing testing.  Reimplementing code that has already been tested\n",
    "        #potentially impacts schedule and product quality.\n",
    "        self._job = job\n",
    "        \n",
    "    def Job(self):\n",
    "        '''\n",
    "        Explanation:\n",
    "        Nothing to do wrt to inheritance, just return the job.\n",
    "        '''\n",
    "        return self._job\n",
    "    \n",
    "    \n",
    "\n",
    "e = Employee('Tim', 'Slator', 'chief bottle washer (CBW)')\n",
    "\n",
    "print(e)\n",
    "\n",
    "print('{last_name}, {first_name} : {job}'.format(last_name=e._last_name, first_name=e._first_name, job=e._job))\n",
    "\n",
    "print(e.Job())  # We get this from Employee class\n",
    "print(e.Name()) # We get this from Person class\n",
    "\n",
    "# Just to demonstrate that Person does not have a job attribute\n",
    "p = Person('Tim', 'Slator')\n",
    "print(p._job)   # AttributeError generated"
   ]
  },
  {
   "cell_type": "markdown",
   "metadata": {},
   "source": [
    "## Overriding\n",
    "\n",
    "Above we saw an example of extending existing functionality by calling the base class method and then doing some additional work.  Sometimes base classes have no implementation or a default implementation that you don't want.  In that case, you can override the method, that is, hide the base class implementation, and provide you own implementation.  We do that with the Income method."
   ]
  },
  {
   "cell_type": "code",
   "execution_count": 36,
   "metadata": {
    "collapsed": false
   },
   "outputs": [
    {
     "name": "stdout",
     "output_type": "stream",
     "text": [
      "Tim Slator\n",
      "chief bottle washer (CBW)\n",
      "peanuts\n",
      "Tim Slator, chief bottle washer (CBW): peanuts\n"
     ]
    }
   ],
   "source": [
    "class Employee(Person):\n",
    "    def __str__(self):\n",
    "        return super().Name() + ', ' + str(self._job) + ': ' + str(self._salary)\n",
    "    \n",
    "    def __init__(self, first_name, last_name, job, salary):\n",
    "        super().__init__(first_name, last_name)\n",
    "        self._job = job\n",
    "        self._salary = salary\n",
    "        \n",
    "    def Job(self):\n",
    "        return self._job\n",
    "    \n",
    "    def Income(self):\n",
    "        return self._salary\n",
    "\n",
    "    \n",
    "e = Employee('Tim', 'Slator', 'chief bottle washer (CBW)', 'peanuts')\n",
    "\n",
    "print(e.Name())\n",
    "print(e.Job())\n",
    "print(e.Income())\n",
    "print(e)\n",
    "        "
   ]
  },
  {
   "cell_type": "markdown",
   "metadata": {},
   "source": [
    "## Multiple Inheritance\n",
    "\n"
   ]
  },
  {
   "cell_type": "code",
   "execution_count": 44,
   "metadata": {
    "collapsed": false
   },
   "outputs": [
    {
     "name": "stdout",
     "output_type": "stream",
     "text": [
      "Car::LandVehicle::Vehicle\n",
      "Boat::WaterVehicle::Vehicle\n",
      "Hovercraft::LandVehicle::WaterVehicle::Vehicle\n"
     ]
    }
   ],
   "source": [
    "class Vehicle:\n",
    "    def __str__(self):\n",
    "        return \"Vehicle\"\n",
    "    \n",
    "class LandVehicle(Vehicle):\n",
    "    def __str__(self):\n",
    "        return \"LandVehicle::\" + super().__str__()\n",
    "    \n",
    "class WaterVehicle(Vehicle):\n",
    "    def __str__(self):\n",
    "        return \"WaterVehicle::\" + super().__str__()\n",
    "    \n",
    "class Car(LandVehicle):\n",
    "    def __str__(self):\n",
    "        return 'Car::' + super().__str__()\n",
    "    \n",
    "class Boat(WaterVehicle):\n",
    "    def __str__(self):\n",
    "        return \"Boat::\" + super().__str__()\n",
    "    \n",
    "class Hovercraft(LandVehicle, WaterVehicle):\n",
    "    def __str__(self):\n",
    "        return \"Hovercraft::\" + super().__str__()\n",
    "    \n",
    "    \n",
    "c = Car()\n",
    "b = Boat()\n",
    "hc = Hovercraft()\n",
    "\n",
    "print(c)\n",
    "print(b)\n",
    "print(hc)"
   ]
  },
  {
   "cell_type": "markdown",
   "metadata": {},
   "source": [
    "## Abstract Class\n",
    "\n"
   ]
  }
 ],
 "metadata": {
  "kernelspec": {
   "display_name": "Python 3",
   "language": "python",
   "name": "python3"
  },
  "language_info": {
   "codemirror_mode": {
    "name": "ipython",
    "version": 3
   },
   "file_extension": ".py",
   "mimetype": "text/x-python",
   "name": "python",
   "nbconvert_exporter": "python",
   "pygments_lexer": "ipython3",
   "version": "3.6.0"
  }
 },
 "nbformat": 4,
 "nbformat_minor": 2
}
