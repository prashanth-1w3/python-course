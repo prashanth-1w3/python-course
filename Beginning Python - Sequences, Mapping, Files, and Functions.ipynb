{
 "cells": [
  {
   "cell_type": "markdown",
   "metadata": {},
   "source": [
    "# Python Documentation\n",
    "\n",
    "* Main Python Site: www.python.org\n",
    "* Python 3 Documentation: https://docs.python.org/3/\n",
    "* Tutorial - takes about 3-4 hours to complete.  Contains many examples of the language and its usage: https://docs.python.org/3/tutorial/index.html \n",
    "* Standard Library: https://docs.python.org/3/library/index.html\n",
    "* Glossary: https://docs.python.org/3/glossary.html\n",
    "\n",
    "\n",
    "* Problems - w3resource.com/python-exercises/"
   ]
  },
  {
   "cell_type": "markdown",
   "metadata": {},
   "source": [
    "# Sequence Types\n",
    "\n",
    "\n",
    "## List\n",
    "\n",
    "### Definition\n",
    "\n",
    "A list is a sequence of values where the values can be of the same or different types.  A list is defined by writing a series of comma-separated values enclosed by brackets.\n",
    "\n",
    "### Nomenclature\n",
    "\n",
    "    l = [1, 2, 3, 4] # List of four integers\n",
    "    l = ['a', 'b', 'c', 'd'] # list of four characters\n",
    "    l = [] # empty list\n",
    "    l = list() # empty list\n",
    "\n",
    "### Operations\n",
    "\n",
    "* append(x)\n",
    "* clear()\n",
    "* copy()\n",
    "* extend(t)\n",
    "* insert(x)\n",
    "* pop([i])\n",
    "* remove(x)\n",
    "* reverse()\n",
    "\n",
    "## Tuple\n",
    "\n",
    "### Definition\n",
    "\n",
    "Tuples are immutable sequences, typically used to store collections of heterogeneous data.  A tuple is defined by writing a series of comma-separated values encluded by parenthesis.  \n",
    "\n",
    "**Note: As an immutable type, tuple is hashable and therefore can be used as a key in a dictionary and stored in a set.**\n",
    "\n",
    "### Nomenclature\n",
    "\n",
    "    t = (1, 2, 3) # Tuple of three integers\n",
    "    t = (1,) # Tuple of single integer\n",
    "    t = ('a', 'b', 'c') # Tuple of three characters\n",
    "    t = 'this', 'that', 'these', 'those' # Tuple of four strings\n",
    "    t = tuple() # Empty tuple\n",
    "    t = () # Empty tuple\n",
    "    \n",
    "### Operations\n",
    "\n",
    "See Common Sequence Operations\n",
    "\n",
    "## Range\n",
    "\n",
    "### Definition\n",
    "\n",
    "The range type represents an immutable sequence of numbers and is commonly used for looping a specific number of times in for loops.\n",
    "\n",
    "### Nomenclature\n",
    "\n",
    "\n",
    "### Operations\n",
    "\n",
    "\n",
    "## Set\n",
    "\n",
    "### Definition\n",
    "\n",
    "A set object is a mutable unordered collection of distinct hashable objects. Common uses include membership testing, removing duplicates from a sequence, and computing mathematical operations such as intersection, union, difference, and symmetric difference.\n",
    "\n",
    "### Nomenclature\n",
    "\n",
    "    s = set([1, 2, 3, 4, 5]) # Set of five integers from list\n",
    "    s = set(('a', 'b', 'c', 'd')) # Set of characters from tuple\n",
    "    s = set('asdf') # Set of four characters from string\n",
    "    s = set() # Empty set\n",
    "\n",
    "### Operations\n",
    "\n",
    "* isdisjoint\n",
    "* issubset or set <= other\n",
    "* set < other\n",
    "* issuperset or set >= other\n",
    "* set > other\n",
    "* union or set | other | ...\n",
    "* intersection or set & other & ...\n",
    "* difference or set - other  - ...\n",
    "* symmetric_difference or set ^ other\n",
    "* copy\n",
    "* update or set |= other\n",
    "* intersection_update or set &= other\n",
    "* difference_update or set -= other\n",
    "* symmetric_difference_update or set ^= other\n",
    "* add(x)\n",
    "* remove(x)\n",
    "* discard(x)\n",
    "* pop()\n",
    "* clear()\n",
    "\n",
    "## Bytes\n",
    "\n",
    "### Definitions\n",
    "\n",
    "Bytes objects are immutable sequences of single bytes.\n",
    "\n",
    "### Nomenclature\n",
    "\n",
    "    b = b'12345656' # Bytes object of length 8\n",
    "    b = bytes(10) # Zero-filled bytes object of length 10\n",
    "    b = bytes(range(10)) # Bytes object of length 10 filled with values 0 through 9\n",
    "\n",
    "### Operations\n",
    "\n",
    "* hex() - Converts ASCII to hex values\n",
    "* fromhex(x) - Converts hex string to ASCII bytes\n",
    "\n",
    "**Note: Contains many ASCII-based (string-type) operations.  Care must be taken when using these operations with non-ASCII data.\n",
    "\n",
    "\n",
    "## ByteArray\n",
    "\n",
    "Immutable counterpart to Bytes\n",
    "    \n",
    "## Common Sequence Operations    \n",
    "    \n",
    "* x in s\n",
    "* x not in s\n",
    "* s + t (concatenate)\n",
    "* s * n or n * s (repeat)\n",
    "* s[i]\n",
    "* s[start:stop]\n",
    "* s[start:stop:step]\n",
    "* len(s)\n",
    "* min(s)\n",
    "* max(s)\n",
    "* s.index(x)\n",
    "* s.count(x)\n",
    "\n",
    "    \n",
    "## Exercises\n",
    "\n",
    "### List\n",
    "\n",
    "### Tuple\n",
    "\n",
    "### Set\n",
    "\n",
    "### Bytes/ByteArray\n",
    "\n",
    "\n",
    "# Mapping\n",
    "\n",
    "## Dictionary\n",
    "\n",
    "### Keys\n",
    "\n",
    "### Values\n",
    "\n",
    "### Items\n",
    "\n",
    "## Exercise\n",
    "\n",
    "Rock, Paper, Scissors\n",
    "\n",
    "\n",
    "# Files\n",
    "\n",
    "\n",
    "# Functions\n",
    "\n",
    "\n",
    "\n",
    "* Problem\n",
    "    * Count the number of words in a file\n",
    "    \n"
   ]
  },
  {
   "cell_type": "markdown",
   "metadata": {},
   "source": [
    "Now that we have learned some basics of programming, input, processing and output, its time to learn new ways to represent the information that is stored within a program.  The mechanisms we use to store information are called data structures.  Python has several useful builtin data structures and also allows a programmer to create her own."
   ]
  },
  {
   "cell_type": "markdown",
   "metadata": {},
   "source": [
    "**List**\n",
    "\n",
    "\n",
    "\n",
    "**Note: While a list can hold values of different types, typically, a list contains values of a single type.**"
   ]
  },
  {
   "cell_type": "code",
   "execution_count": null,
   "metadata": {
    "collapsed": true
   },
   "outputs": [],
   "source": [
    "[1, 2, 3, 4, 5]\n",
    "['a', 'b', 'c', 'd', 'e']\n",
    "[1, 'a', 2, 'b', 3, 'c']"
   ]
  },
  {
   "cell_type": "markdown",
   "metadata": {},
   "source": [
    "Python also provides a **list** function that will create a list from an iterable.  An iterable is defined as:\n",
    "\n",
    "    Iterable: An object capable of returning its members one at a time.\n",
    "    \n",
    "Iteration is a fundamental property used by many data structures throughout Python."
   ]
  },
  {
   "cell_type": "code",
   "execution_count": 5,
   "metadata": {
    "collapsed": false
   },
   "outputs": [
    {
     "data": {
      "text/plain": [
       "['1', '2', '3', '4', '5']"
      ]
     },
     "execution_count": 5,
     "metadata": {},
     "output_type": "execute_result"
    }
   ],
   "source": [
    "list('abcde')"
   ]
  },
  {
   "cell_type": "code",
   "execution_count": null,
   "metadata": {
    "collapsed": true
   },
   "outputs": [],
   "source": [
    "list('12345')"
   ]
  },
  {
   "cell_type": "code",
   "execution_count": 6,
   "metadata": {
    "collapsed": false
   },
   "outputs": [
    {
     "data": {
      "text/plain": [
       "[0, 1, 2, 3, 4, 5, 6, 7, 8, 9]"
      ]
     },
     "execution_count": 6,
     "metadata": {},
     "output_type": "execute_result"
    }
   ],
   "source": [
    "list(range(10))"
   ]
  },
  {
   "cell_type": "markdown",
   "metadata": {},
   "source": [
    "**List Operations**\n",
    "\n",
    "append\n",
    "index\n",
    "slice\n",
    "insert\n",
    "pop\n",
    "\n",
    "* Append\n",
    "\n",
    "   l = []\n",
    "   l.append('a')\n",
    "   l.append('b')\n",
    "   l.append('c')\n",
    "   l.append('d')\n",
    "   \n",
    "* Index\n",
    "    l = [1, 2, 3, 4, 5]\n",
    "    l.index[3]\n",
    "    l.index[0]\n",
    "    l.index[-1]\n",
    "    \n",
    "* Slice\n",
    "    l = [1, 2, 3, 4, 5]\n",
    "    l[0:5]\n",
    "    l[:]\n",
    "    l[3:5]\n",
    "    l[-1:-3]\n",
    "    \n",
    "* Push\n",
    "    l = []\n",
    "    l.push('a')\n",
    "    l.push('b')\n",
    "    l.push('c')\n",
    "    \n",
    "* Pop\n",
    "    l = [1, 2, 3, 4, 5]\n",
    "    l.pop(0)"
   ]
  },
  {
   "cell_type": "markdown",
   "metadata": {},
   "source": [
    "**List Exercises**"
   ]
  },
  {
   "cell_type": "markdown",
   "metadata": {},
   "source": [
    "1. Write a Python program to sum all the items in a list."
   ]
  },
  {
   "cell_type": "code",
   "execution_count": 2,
   "metadata": {
    "collapsed": false
   },
   "outputs": [
    {
     "data": {
      "text/plain": [
       "15"
      ]
     },
     "execution_count": 2,
     "metadata": {},
     "output_type": "execute_result"
    }
   ],
   "source": [
    "l = [1, 2, 3, 4, 5]\n",
    "sum(l)"
   ]
  },
  {
   "cell_type": "markdown",
   "metadata": {},
   "source": [
    "2. Write a Python program to multiplies all the items in a list."
   ]
  },
  {
   "cell_type": "code",
   "execution_count": 1,
   "metadata": {
    "collapsed": false
   },
   "outputs": [
    {
     "data": {
      "text/plain": [
       "120"
      ]
     },
     "execution_count": 1,
     "metadata": {},
     "output_type": "execute_result"
    }
   ],
   "source": [
    "def mul(iterable):\n",
    "     x = 1\n",
    "     for i in iterable:\n",
    "         x*=i\n",
    "     return x\n",
    "\n",
    "l = [1, 2, 3, 4, 5]\n",
    "\n",
    "mul(l)"
   ]
  },
  {
   "cell_type": "markdown",
   "metadata": {},
   "source": [
    "3. Write a Python program to get the largest number from a list."
   ]
  },
  {
   "cell_type": "code",
   "execution_count": 8,
   "metadata": {
    "collapsed": false
   },
   "outputs": [
    {
     "data": {
      "text/plain": [
       "5"
      ]
     },
     "execution_count": 8,
     "metadata": {},
     "output_type": "execute_result"
    }
   ],
   "source": [
    "l = [1, 2, 3, 4, 5]\n",
    "max(l)"
   ]
  },
  {
   "cell_type": "markdown",
   "metadata": {},
   "source": [
    "4. Write a Python program to get the smallest number from a list."
   ]
  },
  {
   "cell_type": "code",
   "execution_count": 9,
   "metadata": {
    "collapsed": false
   },
   "outputs": [
    {
     "data": {
      "text/plain": [
       "1"
      ]
     },
     "execution_count": 9,
     "metadata": {},
     "output_type": "execute_result"
    }
   ],
   "source": [
    "l = [1, 2, 3, 4, 5]\n",
    "min(l)"
   ]
  },
  {
   "cell_type": "markdown",
   "metadata": {},
   "source": [
    "5. Write a Python program to count the number of strings where the string length is 2 or more and the first and last character are same from a given list of strings."
   ]
  },
  {
   "cell_type": "code",
   "execution_count": 3,
   "metadata": {
    "collapsed": false
   },
   "outputs": [
    {
     "name": "stdout",
     "output_type": "stream",
     "text": [
      "that\n"
     ]
    }
   ],
   "source": [
    "s = ['this', 'that', 'these', 'those', 'it', 'what', 'wish']\n",
    "        \n",
    "for i in s:\n",
    "    if len(i) >= 2 and i[0] == i[-1]:\n",
    "        print(i)"
   ]
  },
  {
   "cell_type": "markdown",
   "metadata": {},
   "source": [
    "6. Write a Python program to get a list, sorted in increasing order by the last element in each tuple from a given list of non-empty tuples."
   ]
  },
  {
   "cell_type": "code",
   "execution_count": 7,
   "metadata": {
    "collapsed": false
   },
   "outputs": [
    {
     "data": {
      "text/plain": [
       "[(2, 3), (5, 3), (1, 2), (3, 2), (7, 2)]"
      ]
     },
     "execution_count": 7,
     "metadata": {},
     "output_type": "execute_result"
    }
   ],
   "source": [
    "l = [(1, 2), (3, 2), (2, 3), (5, 3), (7,2)]\n",
    "sorted(l, key=lambda i: i[1], reverse=True)\n"
   ]
  },
  {
   "cell_type": "markdown",
   "metadata": {},
   "source": [
    "7. Write a Python program to remove duplicates from a list."
   ]
  },
  {
   "cell_type": "code",
   "execution_count": 18,
   "metadata": {
    "collapsed": false
   },
   "outputs": [
    {
     "data": {
      "text/plain": [
       "[1, 2, 3, 4, 5, 6, 7]"
      ]
     },
     "execution_count": 18,
     "metadata": {},
     "output_type": "execute_result"
    }
   ],
   "source": [
    "l = [1, 2, 3, 4, 1, 5, 6, 5, 7, 6]\n",
    "list(set(l))"
   ]
  },
  {
   "cell_type": "markdown",
   "metadata": {},
   "source": [
    "8. Write a Python program to check a list is empty or not."
   ]
  },
  {
   "cell_type": "code",
   "execution_count": 21,
   "metadata": {
    "collapsed": false
   },
   "outputs": [
    {
     "name": "stdout",
     "output_type": "stream",
     "text": [
      "False\n",
      "True\n"
     ]
    }
   ],
   "source": [
    "def is_empty(l):\n",
    "    return l is None\n",
    "\n",
    "l = [1, 2, 3, 4, 5]\n",
    "print(is_empty(l))\n",
    "\n",
    "l = None\n",
    "print(is_empty(l))"
   ]
  },
  {
   "cell_type": "markdown",
   "metadata": {},
   "source": [
    "9. Write a Python program to clone or copy a list."
   ]
  },
  {
   "cell_type": "code",
   "execution_count": 23,
   "metadata": {
    "collapsed": false
   },
   "outputs": [
    {
     "name": "stdout",
     "output_type": "stream",
     "text": [
      "140156395305608\n",
      "140156395271560\n"
     ]
    }
   ],
   "source": [
    "l = [1, 2, 3, 4, 5]\n",
    "print(id(l))\n",
    "\n",
    "m = l.copy()\n",
    "print(id(m))"
   ]
  },
  {
   "cell_type": "markdown",
   "metadata": {},
   "source": [
    "10. Write a Python program to find the list of words that are longer than n from a given list of words."
   ]
  },
  {
   "cell_type": "code",
   "execution_count": 29,
   "metadata": {
    "collapsed": false
   },
   "outputs": [
    {
     "name": "stdout",
     "output_type": "stream",
     "text": [
      "['these', 'those', 'which', 'where']\n"
     ]
    }
   ],
   "source": [
    "l = ['this', 'that', 'these', 'those', 'which', 'what', 'who', 'where']\n",
    "n = 4\n",
    "m = [i for i in l if len(i) > n]\n",
    "print(m)"
   ]
  },
  {
   "cell_type": "markdown",
   "metadata": {},
   "source": [
    "11. Write a Python function that takes two lists and returns True if they have at least one common member."
   ]
  },
  {
   "cell_type": "code",
   "execution_count": 37,
   "metadata": {
    "collapsed": false
   },
   "outputs": [
    {
     "data": {
      "text/plain": [
       "True"
      ]
     },
     "execution_count": 37,
     "metadata": {},
     "output_type": "execute_result"
    }
   ],
   "source": [
    "l = [1, 2, 3, 4, 5, 6, 7, 8, 9]\n",
    "m = [9, 5, 3, 1, 3, 8]\n",
    "\n",
    "True if True in [\n",
    "    i == j \n",
    "    for i in m \n",
    "    for j in l] else False"
   ]
  },
  {
   "cell_type": "markdown",
   "metadata": {},
   "source": [
    "12. Write a Python program to print a specified list after removing the 0th, 4th and 5th elements."
   ]
  },
  {
   "cell_type": "code",
   "execution_count": 47,
   "metadata": {
    "collapsed": false
   },
   "outputs": [
    {
     "name": "stdout",
     "output_type": "stream",
     "text": [
      "[3, 2, 6, 8, 9, 4]\n"
     ]
    }
   ],
   "source": [
    "l = [1, 3, 2, 6, 5, 7, 8, 9, 4]\n",
    "\n",
    "r = [0, 4, 5]\n",
    "\n",
    "m = [v for i,v in enumerate(l) if i not in r]\n",
    "\n",
    "print(m)"
   ]
  },
  {
   "cell_type": "markdown",
   "metadata": {},
   "source": [
    "13. Write a Python program to generate a 3*4*6 3D array whose each element is *."
   ]
  },
  {
   "cell_type": "code",
   "execution_count": 59,
   "metadata": {
    "collapsed": false
   },
   "outputs": [
    {
     "data": {
      "text/plain": [
       "[[['*', '*', '*'], ['*', '*', '*'], ['*', '*', '*'], ['*', '*', '*']],\n",
       " [['*', '*', '*'], ['*', '*', '*'], ['*', '*', '*'], ['*', '*', '*']],\n",
       " [['*', '*', '*'], ['*', '*', '*'], ['*', '*', '*'], ['*', '*', '*']],\n",
       " [['*', '*', '*'], ['*', '*', '*'], ['*', '*', '*'], ['*', '*', '*']],\n",
       " [['*', '*', '*'], ['*', '*', '*'], ['*', '*', '*'], ['*', '*', '*']],\n",
       " [['*', '*', '*'], ['*', '*', '*'], ['*', '*', '*'], ['*', '*', '*']]]"
      ]
     },
     "execution_count": 59,
     "metadata": {},
     "output_type": "execute_result"
    }
   ],
   "source": [
    "def make_3d_array(i, j, k):\n",
    "    return [[[ '*' for _i in range(i)] for _j in range(j)] for _k in range(k)]\n",
    "\n",
    "make_3d_array(3, 4, 6)\n",
    " "
   ]
  },
  {
   "cell_type": "markdown",
   "metadata": {},
   "source": [
    "14. Write a Python program to print the numbers of a specified list after removing even numbers from it. "
   ]
  },
  {
   "cell_type": "code",
   "execution_count": 62,
   "metadata": {
    "collapsed": false
   },
   "outputs": [
    {
     "data": {
      "text/plain": [
       "[4, 2, 4, 8]"
      ]
     },
     "execution_count": 62,
     "metadata": {},
     "output_type": "execute_result"
    }
   ],
   "source": [
    "l = [1, 4, 3, 2, 5, 7 ,4, 5, 8]\n",
    "[i for i in l if i % 2 == 0]"
   ]
  },
  {
   "cell_type": "markdown",
   "metadata": {},
   "source": [
    "15. Write a Python program to shuffle and print a specified list."
   ]
  },
  {
   "cell_type": "code",
   "execution_count": 70,
   "metadata": {
    "collapsed": false
   },
   "outputs": [
    {
     "name": "stdout",
     "output_type": "stream",
     "text": [
      "[5, 1, 2, 4, 6, 3]\n"
     ]
    }
   ],
   "source": [
    "import random\n",
    "\n",
    "l = [1, 2, 3, 4, 5, 6]\n",
    "random.shuffle(l)\n",
    "print(l)"
   ]
  },
  {
   "cell_type": "markdown",
   "metadata": {},
   "source": [
    "16. Write a Python program to generate and print a list of first and last 5 elements where the values are square of numbers between 1 and 30 (both included)."
   ]
  },
  {
   "cell_type": "code",
   "execution_count": 84,
   "metadata": {
    "collapsed": false
   },
   "outputs": [
    {
     "name": "stdout",
     "output_type": "stream",
     "text": [
      "[633, 560, 750, 272, 407, 253, 19, 845, 762, 341]\n"
     ]
    }
   ],
   "source": [
    "import random\n",
    "import math\n",
    "\n",
    "l = [random.randint(0, 1000) for _ in range(100)]\n",
    "\n",
    "m = [i for i in l if 1 < math.sqrt(i) < 30]\n",
    "print(m[:5] + m[-5:])"
   ]
  },
  {
   "cell_type": "markdown",
   "metadata": {},
   "source": [
    "17. Write a Python program to generate and print a list except for the first 5 elements, where the values are square of numbers between 1 and 30 (both included)."
   ]
  },
  {
   "cell_type": "code",
   "execution_count": 87,
   "metadata": {
    "collapsed": false
   },
   "outputs": [
    {
     "name": "stdout",
     "output_type": "stream",
     "text": [
      "[6, 652, 384, 697, 313, 330, 345, 612, 78, 468, 180, 768, 866, 591, 451, 804, 201, 379, 197, 253, 86, 621, 772, 215, 759, 534, 814, 159, 379, 568, 174, 164, 846, 143, 214, 38, 242, 883, 242, 685, 831, 800, 232, 644, 93, 210, 192, 670, 520, 379, 469, 698, 246, 504, 159, 272, 311, 610, 557, 818, 88, 92, 59, 212, 636, 832, 771, 342, 359, 459, 351, 566, 562, 119, 867, 377, 356, 594, 177, 160, 510, 604, 405]\n"
     ]
    }
   ],
   "source": [
    "import random\n",
    "\n",
    "l = [random.randint(0, 1000) for _ in range(100)]\n",
    "\n",
    "m = [i for i in l if 1 < i < 30*30]\n",
    "print(m[5:])"
   ]
  },
  {
   "cell_type": "markdown",
   "metadata": {},
   "source": [
    "18. Write a Python program to generate all permutations of a list in Python."
   ]
  },
  {
   "cell_type": "code",
   "execution_count": 94,
   "metadata": {
    "collapsed": false
   },
   "outputs": [
    {
     "data": {
      "text/plain": [
       "[(0, 3, 2), (0, 2, 3), (3, 0, 2), (3, 2, 0), (2, 0, 3), (2, 3, 0)]"
      ]
     },
     "execution_count": 94,
     "metadata": {},
     "output_type": "execute_result"
    }
   ],
   "source": [
    "import random\n",
    "import itertools\n",
    "\n",
    "n = 3\n",
    "l = [random.randint(0,n) for i in range(n)]\n",
    "\n",
    "[i for i in itertools.permutations(l)]"
   ]
  },
  {
   "cell_type": "markdown",
   "metadata": {},
   "source": [
    "19. Write a Python program to get the difference between the two lists."
   ]
  },
  {
   "cell_type": "code",
   "execution_count": 101,
   "metadata": {
    "collapsed": false
   },
   "outputs": [
    {
     "name": "stdout",
     "output_type": "stream",
     "text": [
      "[8, 5]\n"
     ]
    }
   ],
   "source": [
    "l = [1, 2, 3]\n",
    "m = [5, 8, 3, 2, 1]\n",
    "\n",
    "print(list(set(m)-set(l)))"
   ]
  },
  {
   "cell_type": "markdown",
   "metadata": {},
   "source": [
    "20. Write a Python program access the index of a list."
   ]
  },
  {
   "cell_type": "code",
   "execution_count": 103,
   "metadata": {
    "collapsed": false
   },
   "outputs": [
    {
     "name": "stdout",
     "output_type": "stream",
     "text": [
      "0 1\n",
      "1 2\n",
      "2 3\n",
      "3 4\n",
      "4 5\n"
     ]
    }
   ],
   "source": [
    "l = [1, 2, 3, 4, 5]\n",
    "\n",
    "for k, v in enumerate(l):\n",
    "    print(k, v)"
   ]
  },
  {
   "cell_type": "markdown",
   "metadata": {},
   "source": [
    "21. Write a Python program to convert a list of characters into a string."
   ]
  },
  {
   "cell_type": "code",
   "execution_count": 104,
   "metadata": {
    "collapsed": false
   },
   "outputs": [
    {
     "data": {
      "text/plain": [
       "'abcdefgh'"
      ]
     },
     "execution_count": 104,
     "metadata": {},
     "output_type": "execute_result"
    }
   ],
   "source": [
    "l = ['a', 'b', 'c', 'd', 'e', 'f', 'g', 'h']\n",
    "\n",
    "''.join(l)"
   ]
  },
  {
   "cell_type": "markdown",
   "metadata": {},
   "source": [
    "22. Write a Python program to find the index of an item in a specified list."
   ]
  },
  {
   "cell_type": "code",
   "execution_count": 107,
   "metadata": {
    "collapsed": false
   },
   "outputs": [
    {
     "name": "stdout",
     "output_type": "stream",
     "text": [
      "0\n",
      "4\n"
     ]
    }
   ],
   "source": [
    "l = ['a', 'b', 'c', 'd', 'e', 'f', 'g']\n",
    "\n",
    "print(l.index('a'))\n",
    "print(l.index('e'))"
   ]
  },
  {
   "cell_type": "markdown",
   "metadata": {},
   "source": [
    "23. Write a Python program to flatten a shallow list."
   ]
  },
  {
   "cell_type": "code",
   "execution_count": 108,
   "metadata": {
    "collapsed": false
   },
   "outputs": [
    {
     "name": "stdout",
     "output_type": "stream",
     "text": [
      "[2, 4, 3, 1, 5, 6, 9, 7, 9, 0]\n"
     ]
    }
   ],
   "source": [
    "import itertools\n",
    "\n",
    "l = [[2,4,3],[1,5,6], [9], [7,9,0]]\n",
    "m = list(itertools.chain(*l))\n",
    "print(m)"
   ]
  },
  {
   "cell_type": "markdown",
   "metadata": {},
   "source": [
    "24. Write a Python program to append a list to the second list."
   ]
  },
  {
   "cell_type": "code",
   "execution_count": 113,
   "metadata": {
    "collapsed": false
   },
   "outputs": [
    {
     "name": "stdout",
     "output_type": "stream",
     "text": [
      "['a', 'b', 'c', 'd', 1, 2, 3, 4, 5]\n",
      "['a', 'b', 'c', 'd', 1, 2, 3, 4, 5]\n"
     ]
    }
   ],
   "source": [
    "l = [1, 2, 3, 4, 5]\n",
    "m = ['a', 'b', 'c', 'd']\n",
    "\n",
    "print(m + l)\n",
    "m.extend(l)\n",
    "print(m)"
   ]
  },
  {
   "cell_type": "markdown",
   "metadata": {},
   "source": [
    "25. Write a Python program to select an item randomly from a list."
   ]
  },
  {
   "cell_type": "code",
   "execution_count": 119,
   "metadata": {
    "collapsed": false
   },
   "outputs": [
    {
     "data": {
      "text/plain": [
       "3"
      ]
     },
     "execution_count": 119,
     "metadata": {},
     "output_type": "execute_result"
    }
   ],
   "source": [
    "import random\n",
    "\n",
    "l = [1, 2, 3, 4, 5, 6]\n",
    "\n",
    "l[random.randint(0, len(l))]"
   ]
  },
  {
   "cell_type": "markdown",
   "metadata": {},
   "source": [
    "26. Write a python program to check whether two lists are circularly identical."
   ]
  },
  {
   "cell_type": "code",
   "execution_count": 128,
   "metadata": {
    "collapsed": false
   },
   "outputs": [
    {
     "data": {
      "text/plain": [
       "False"
      ]
     },
     "execution_count": 128,
     "metadata": {},
     "output_type": "execute_result"
    }
   ],
   "source": [
    "list1 = [10, 10, 0, 0, 10]\n",
    "list2 = [10, 10, 10, 0, 0]\n",
    "list3 = [1, 10, 10, 0, 0]\n",
    "\n",
    "def rotate(l, n=1):\n",
    "    t = l.pop(0)\n",
    "    l.append(t)\n",
    "\n",
    "def linearly_circular(l1, l2):    \n",
    "    for i in range(len(l1)):    \n",
    "        rotate(l1)\n",
    "        if l1 == l2:\n",
    "            return True\n",
    "    return False\n",
    "\n",
    "\n",
    "linearly_circular(list2, list3)"
   ]
  },
  {
   "cell_type": "code",
   "execution_count": 134,
   "metadata": {
    "collapsed": false
   },
   "outputs": [
    {
     "data": {
      "text/plain": [
       "True"
      ]
     },
     "execution_count": 134,
     "metadata": {},
     "output_type": "execute_result"
    }
   ],
   "source": [
    "list1 = [10, 10, 0, 0, 10]\n",
    "list2 = [10, 10, 10, 0, 0]\n",
    "list3 = [1, 10, 10, 0, 0]\n",
    "\n",
    "def linearly_circular(l1, l2):\n",
    "    return ''.join(map(str, l1)) in ''.join(map(str, l2*2))\n",
    "\n",
    "linearly_circular(list1, list2)"
   ]
  },
  {
   "cell_type": "markdown",
   "metadata": {},
   "source": [
    "27. Write a Python program to find the second smallest number in a list."
   ]
  },
  {
   "cell_type": "code",
   "execution_count": 139,
   "metadata": {
    "collapsed": false
   },
   "outputs": [
    {
     "name": "stdout",
     "output_type": "stream",
     "text": [
      "2\n"
     ]
    }
   ],
   "source": [
    "import random\n",
    "\n",
    "l = [random.randint(0, 100) for _ in range(100)]\n",
    "\n",
    "l.sort()\n",
    "print(l[1])"
   ]
  },
  {
   "cell_type": "markdown",
   "metadata": {},
   "source": [
    "28. Write a Python program to find the second largest number in a list."
   ]
  },
  {
   "cell_type": "code",
   "execution_count": 140,
   "metadata": {
    "collapsed": false
   },
   "outputs": [
    {
     "name": "stdout",
     "output_type": "stream",
     "text": [
      "96\n"
     ]
    }
   ],
   "source": [
    "import random\n",
    "\n",
    "l = [random.randint(0, 100) for _ in range(100)]\n",
    "\n",
    "l.sort()\n",
    "print(l[-2])"
   ]
  },
  {
   "cell_type": "markdown",
   "metadata": {},
   "source": [
    "29. Write a Python program to get unique values from a list."
   ]
  },
  {
   "cell_type": "code",
   "execution_count": 142,
   "metadata": {
    "collapsed": false
   },
   "outputs": [
    {
     "name": "stdout",
     "output_type": "stream",
     "text": [
      "{0, 2, 3, 5, 6, 7, 8, 9, 11, 12, 14, 16, 20, 21, 22, 24, 25, 26, 28, 29, 30, 31, 32, 34, 37, 38, 39, 41, 42, 43, 44, 46, 47, 48, 54, 55, 56, 57, 58, 60, 62, 64, 65, 66, 67, 68, 69, 72, 75, 76, 79, 80, 81, 85, 87, 88, 89, 90, 91, 94, 97, 99}\n"
     ]
    }
   ],
   "source": [
    "import random\n",
    "\n",
    "l = [random.randint(0, 100) for _ in range(100)]\n",
    "\n",
    "print(set(l))"
   ]
  },
  {
   "cell_type": "markdown",
   "metadata": {},
   "source": [
    "30. Write a Python program to get the frequency of the elements in a list."
   ]
  },
  {
   "cell_type": "code",
   "execution_count": 146,
   "metadata": {
    "collapsed": false
   },
   "outputs": [
    {
     "data": {
      "text/plain": [
       "Counter({0: 3,\n",
       "         1: 3,\n",
       "         2: 2,\n",
       "         3: 1,\n",
       "         4: 2,\n",
       "         5: 1,\n",
       "         8: 3,\n",
       "         9: 1,\n",
       "         10: 1,\n",
       "         11: 1,\n",
       "         12: 1,\n",
       "         13: 1,\n",
       "         14: 1,\n",
       "         18: 1,\n",
       "         21: 2,\n",
       "         22: 1,\n",
       "         27: 1,\n",
       "         28: 1,\n",
       "         29: 1,\n",
       "         30: 2,\n",
       "         32: 1,\n",
       "         33: 1,\n",
       "         34: 2,\n",
       "         35: 1,\n",
       "         36: 2,\n",
       "         37: 1,\n",
       "         39: 1,\n",
       "         41: 1,\n",
       "         42: 2,\n",
       "         43: 1,\n",
       "         45: 2,\n",
       "         46: 1,\n",
       "         47: 1,\n",
       "         48: 1,\n",
       "         51: 3,\n",
       "         52: 3,\n",
       "         53: 2,\n",
       "         54: 1,\n",
       "         57: 2,\n",
       "         58: 1,\n",
       "         60: 1,\n",
       "         61: 1,\n",
       "         62: 2,\n",
       "         63: 1,\n",
       "         64: 2,\n",
       "         65: 1,\n",
       "         66: 1,\n",
       "         67: 1,\n",
       "         70: 1,\n",
       "         71: 1,\n",
       "         72: 1,\n",
       "         73: 1,\n",
       "         74: 2,\n",
       "         75: 1,\n",
       "         77: 1,\n",
       "         81: 2,\n",
       "         84: 2,\n",
       "         85: 2,\n",
       "         86: 1,\n",
       "         87: 1,\n",
       "         88: 2,\n",
       "         90: 1,\n",
       "         91: 1,\n",
       "         94: 1,\n",
       "         96: 2,\n",
       "         97: 5,\n",
       "         99: 1,\n",
       "         100: 1})"
      ]
     },
     "execution_count": 146,
     "metadata": {},
     "output_type": "execute_result"
    }
   ],
   "source": [
    "import random\n",
    "import collections\n",
    "\n",
    "l = [random.randint(0, 100) for _ in range(100)]\n",
    "\n",
    "collections.Counter(l)"
   ]
  },
  {
   "cell_type": "markdown",
   "metadata": {},
   "source": [
    "31. Write a Python program to count the number of elements in a list within a specified range."
   ]
  },
  {
   "cell_type": "code",
   "execution_count": 149,
   "metadata": {
    "collapsed": false
   },
   "outputs": [
    {
     "data": {
      "text/plain": [
       "Counter({42: 3, 44: 2, 46: 2, 47: 3, 55: 1, 56: 1, 57: 1, 58: 2, 59: 2})"
      ]
     },
     "execution_count": 149,
     "metadata": {},
     "output_type": "execute_result"
    }
   ],
   "source": [
    "import random\n",
    "import collections\n",
    "\n",
    "l = [random.randint(0, 100) for _ in range(100)]\n",
    "\n",
    "def count_elements_in_range(l, min, max):\n",
    "    return collections.Counter([i for i in l if min < i < max])\n",
    "\n",
    "count_elements_in_range(l, 40, 60)"
   ]
  },
  {
   "cell_type": "markdown",
   "metadata": {},
   "source": [
    "32. Write a Python program to check whether a list contains a sublist."
   ]
  },
  {
   "cell_type": "code",
   "execution_count": 151,
   "metadata": {
    "collapsed": false
   },
   "outputs": [
    {
     "name": "stdout",
     "output_type": "stream",
     "text": [
      "True\n",
      "True\n"
     ]
    }
   ],
   "source": [
    "l = [1, 2, 3, 4, 5]\n",
    "s = [1, 2, 3]\n",
    "\n",
    "print(set(s).issubset(set(l)) is not None)\n",
    "\n",
    "print(set(s) <= set(l))"
   ]
  },
  {
   "cell_type": "markdown",
   "metadata": {},
   "source": [
    "**Dictionary**"
   ]
  },
  {
   "cell_type": "code",
   "execution_count": null,
   "metadata": {
    "collapsed": true
   },
   "outputs": [],
   "source": []
  },
  {
   "cell_type": "markdown",
   "metadata": {},
   "source": [
    "http://www.w3resource.com/python-exercises/"
   ]
  },
  {
   "cell_type": "code",
   "execution_count": null,
   "metadata": {
    "collapsed": true
   },
   "outputs": [],
   "source": []
  },
  {
   "cell_type": "markdown",
   "metadata": {},
   "source": []
  },
  {
   "cell_type": "code",
   "execution_count": null,
   "metadata": {
    "collapsed": true
   },
   "outputs": [],
   "source": []
  }
 ],
 "metadata": {
  "anaconda-cloud": {},
  "kernelspec": {
   "display_name": "Python 3",
   "language": "python",
   "name": "python3"
  },
  "language_info": {
   "codemirror_mode": {
    "name": "ipython",
    "version": 3
   },
   "file_extension": ".py",
   "mimetype": "text/x-python",
   "name": "python",
   "nbconvert_exporter": "python",
   "pygments_lexer": "ipython3",
   "version": "3.6.0"
  }
 },
 "nbformat": 4,
 "nbformat_minor": 2
}
